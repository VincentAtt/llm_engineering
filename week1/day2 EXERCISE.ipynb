{
 "cells": [
  {
   "cell_type": "markdown",
   "id": "d15d8294-3328-4e07-ad16-8a03e9bbfdb9",
   "metadata": {},
   "source": [
    "# Welcome to your first assignment!\n",
    "\n",
    "Instructions are below. Please give this a try, and look in the solutions folder if you get stuck (or feel free to ask me!)"
   ]
  },
  {
   "cell_type": "markdown",
   "id": "ada885d9-4d42-4d9b-97f0-74fbbbfe93a9",
   "metadata": {},
   "source": [
    "<table style=\"margin: 0; text-align: left;\">\n",
    "    <tr>\n",
    "        <td style=\"width: 150px; height: 150px; vertical-align: middle;\">\n",
    "            <img src=\"../resources.jpg\" width=\"150\" height=\"150\" style=\"display: block;\" />\n",
    "        </td>\n",
    "        <td>\n",
    "            <h2 style=\"color:#f71;\">Just before we get to the assignment --</h2>\n",
    "            <span style=\"color:#f71;\">I thought I'd take a second to point you at this page of useful resources for the course. This includes links to all the slides.<br/>\n",
    "            <a href=\"https://edwarddonner.com/2024/11/13/llm-engineering-resources/\">https://edwarddonner.com/2024/11/13/llm-engineering-resources/</a><br/>\n",
    "            Please keep this bookmarked, and I'll continue to add more useful links there over time.\n",
    "            </span>\n",
    "        </td>\n",
    "    </tr>\n",
    "</table>"
   ]
  },
  {
   "cell_type": "markdown",
   "id": "6e9fa1fc-eac5-4d1d-9be4-541b3f2b3458",
   "metadata": {},
   "source": [
    "# HOMEWORK EXERCISE ASSIGNMENT\n",
    "\n",
    "Upgrade the day 1 project to summarize a webpage to use an Open Source model running locally via Ollama rather than OpenAI\n",
    "\n",
    "You'll be able to use this technique for all subsequent projects if you'd prefer not to use paid APIs.\n",
    "\n",
    "**Benefits:**\n",
    "1. No API charges - open-source\n",
    "2. Data doesn't leave your box\n",
    "\n",
    "**Disadvantages:**\n",
    "1. Significantly less power than Frontier Model\n",
    "\n",
    "## Recap on installation of Ollama\n",
    "\n",
    "Simply visit [ollama.com](https://ollama.com) and install!\n",
    "\n",
    "Once complete, the ollama server should already be running locally.  \n",
    "If you visit:  \n",
    "[http://localhost:11434/](http://localhost:11434/)\n",
    "\n",
    "You should see the message `Ollama is running`.  \n",
    "\n",
    "If not, bring up a new Terminal (Mac) or Powershell (Windows) and enter `ollama serve`  \n",
    "And in another Terminal (Mac) or Powershell (Windows), enter `ollama pull llama3.2`  \n",
    "Then try [http://localhost:11434/](http://localhost:11434/) again.\n",
    "\n",
    "If Ollama is slow on your machine, try using `llama3.2:1b` as an alternative. Run `ollama pull llama3.2:1b` from a Terminal or Powershell, and change the code below from `MODEL = \"llama3.2\"` to `MODEL = \"llama3.2:1b\"`"
   ]
  },
  {
   "cell_type": "code",
   "execution_count": 7,
   "id": "4e2a9393-7767-488e-a8bf-27c12dca35bd",
   "metadata": {},
   "outputs": [],
   "source": [
    "# imports\n",
    "\n",
    "import requests\n",
    "from bs4 import BeautifulSoup\n",
    "from IPython.display import Markdown, display"
   ]
  },
  {
   "cell_type": "code",
   "execution_count": 8,
   "id": "29ddd15d-a3c5-4f4e-a678-873f56162724",
   "metadata": {},
   "outputs": [],
   "source": [
    "# Constants\n",
    "\n",
    "OLLAMA_API = \"http://localhost:11434/api/chat\"\n",
    "HEADERS = {\"Content-Type\": \"application/json\"}\n",
    "MODEL = \"llama3.2\""
   ]
  },
  {
   "cell_type": "code",
   "execution_count": 9,
   "id": "dac0a679-599c-441f-9bf2-ddc73d35b940",
   "metadata": {},
   "outputs": [],
   "source": [
    "# Create a messages list using the same format that we used for OpenAI\n",
    "\n",
    "messages = [\n",
    "    {\"role\": \"user\", \"content\": \"Describe some of the business applications of Generative AI\"}\n",
    "]"
   ]
  },
  {
   "cell_type": "code",
   "execution_count": 10,
   "id": "7bb9c624-14f0-4945-a719-8ddb64f66f47",
   "metadata": {},
   "outputs": [],
   "source": [
    "payload = {\n",
    "        \"model\": MODEL,\n",
    "        \"messages\": messages,\n",
    "        \"stream\": False\n",
    "    }"
   ]
  },
  {
   "cell_type": "code",
   "execution_count": 5,
   "id": "42b9f644-522d-4e05-a691-56e7658c0ea9",
   "metadata": {},
   "outputs": [
    {
     "name": "stdout",
     "output_type": "stream",
     "text": [
      "Generative AI has numerous business applications across various industries, including:\n",
      "\n",
      "1. **Content Creation**: AI-powered tools can generate high-quality content such as blog posts, social media posts, product descriptions, and even entire articles. This saves time and resources for content creators.\n",
      "2. **Marketing Automation**: Generative AI can help automate marketing campaigns by generating personalized email templates, social media posts, and ad copy. It can also analyze customer data to create targeted promotions.\n",
      "3. **Design and Visual Arts**: AI-powered design tools can generate images, logos, and other visual elements, freeing up designers' time for higher-level creative work.\n",
      "4. **Product Development**: Generative AI can help designers and engineers develop new products by generating concepts, prototypes, and even complete product designs.\n",
      "5. **Customer Service Chatbots**: AI-powered chatbots can engage with customers, answer questions, and provide support 24/7, reducing the need for human customer service agents.\n",
      "6. **Supply Chain Optimization**: Generative AI can analyze supply chain data to identify bottlenecks, optimize logistics, and predict demand fluctuations.\n",
      "7. **Data Analysis and Insights**: AI-powered tools can analyze large datasets, identifying patterns, trends, and insights that can inform business decisions.\n",
      "8. **Personalized Recommendations**: Generative AI can generate personalized product recommendations for e-commerce sites, improving customer engagement and conversion rates.\n",
      "9. **Creative Writing and Storytelling**: AI-powered tools can generate stories, scripts, and even entire books, opening up new opportunities for writers and content creators.\n",
      "10. **Cybersecurity**: Generative AI can help detect and respond to cyber threats by analyzing network traffic, identifying anomalies, and predicting potential attacks.\n",
      "\n",
      "Some specific examples of business applications of Generative AI include:\n",
      "\n",
      "* Salesforce's Einstein AI-powered chatbots\n",
      "* Google's AutoML (Automated Machine Learning) platform\n",
      "* IBM's Watson Studio AI-powered design tools\n",
      "* Amazon's Sumerian AI-powered animation and video creation tool\n",
      "* Microsoft's Azure Machine Learning AI-powered predictive analytics platform\n",
      "\n",
      "These are just a few examples of the many business applications of Generative AI. As the technology continues to evolve, we can expect to see even more innovative uses across various industries.\n"
     ]
    }
   ],
   "source": [
    "response = requests.post(OLLAMA_API, json=payload, headers=HEADERS)\n",
    "print(response.json()['message']['content'])"
   ]
  },
  {
   "cell_type": "markdown",
   "id": "6a021f13-d6a1-4b96-8e18-4eae49d876fe",
   "metadata": {},
   "source": [
    "# Introducing the ollama package\n",
    "\n",
    "And now we'll do the same thing, but using the elegant ollama python package instead of a direct HTTP call.\n",
    "\n",
    "Under the hood, it's making the same call as above to the ollama server running at localhost:11434"
   ]
  },
  {
   "cell_type": "code",
   "execution_count": 11,
   "id": "a4763322",
   "metadata": {},
   "outputs": [],
   "source": [
    "import ollama"
   ]
  },
  {
   "cell_type": "code",
   "execution_count": null,
   "id": "7745b9c4-57dc-4867-9180-61fa5db55eb8",
   "metadata": {},
   "outputs": [
    {
     "name": "stdout",
     "output_type": "stream",
     "text": [
      "Generative AI has numerous business applications across various industries, including:\n",
      "\n",
      "1. **Content Generation**: AI can generate high-quality content such as articles, social media posts, product descriptions, and more, freeing up human writers' time and improving efficiency.\n",
      "2. **Personalized Recommendations**: Generative AI algorithms can analyze customer data and preferences to create personalized product recommendations, enhancing the shopping experience and increasing sales.\n",
      "3. **Chatbots and Virtual Assistants**: AI-powered chatbots can help businesses provide 24/7 customer support, answer frequently asked questions, and route complex inquiries to human representatives.\n",
      "4. **Product Design and Development**: Generative AI tools can assist designers in creating new product designs, exploring alternative configurations, and optimizing product features for improved performance and aesthetics.\n",
      "5. **Marketing and Advertising**: AI-generated ad copy, images, and videos can help marketers optimize their campaigns, improve targeting accuracy, and reduce production time.\n",
      "6. **Data Analysis and Visualization**: Generative AI algorithms can analyze large datasets, identify patterns, and create interactive visualizations to inform business decisions and drive growth.\n",
      "7. **Supply Chain Optimization**: AI-powered predictive analytics can forecast demand, optimize inventory levels, and predict supply chain disruptions, reducing costs and improving efficiency.\n",
      "8. **Customer Service Automation**: Generative AI tools can help automate routine customer service tasks such as responding to FAQs, generating simple complaints responses, and flagging complex issues for human review.\n",
      "9. **Music and Video Creation**: AI-generated music and videos can be used in various industries such as entertainment, education, and advertising, reducing production costs and increasing creativity.\n",
      "10. **Cybersecurity Threat Detection**: Generative AI algorithms can analyze network traffic patterns to identify potential security threats, detect anomalies, and provide early warning systems for cyber attacks.\n",
      "\n",
      "Some specific business applications of Generative AI include:\n",
      "\n",
      "* **Netflix's Content Generation**: Using generative AI to create new content, such as movie trailers and promotional materials.\n",
      "* **Amazon's Product Recommendations**: Leveraging AI-generated recommendations to enhance the shopping experience and increase sales.\n",
      "* **Google's Search Result Generation**: Using generative AI algorithms to generate search result snippets and descriptions.\n",
      "* **Microsoft's Chatbots**: Deploying AI-powered chatbots to provide 24/7 customer support and improve user engagement.\n",
      "\n",
      "These are just a few examples of the many business applications of Generative AI. As the technology continues to evolve, we can expect to see even more innovative use cases across various industries.\n"
     ]
    }
   ],
   "source": [
    "response = ollama.chat(model=MODEL, messages=messages)\n",
    "print(response['message']['content'])"
   ]
  },
  {
   "cell_type": "markdown",
   "id": "1622d9bb-5c68-4d4e-9ca4-b492c751f898",
   "metadata": {},
   "source": [
    "# NOW the exercise for you\n",
    "\n",
    "Take the code from day1 and incorporate it here, to build a website summarizer that uses Llama 3.2 running locally instead of OpenAI"
   ]
  },
  {
   "cell_type": "code",
   "execution_count": 12,
   "id": "dc41e691",
   "metadata": {},
   "outputs": [],
   "source": [
    "# A class to represent a Webpage\n",
    "# If you're not familiar with Classes, check out the \"Intermediate Python\" notebook\n",
    "\n",
    "class Website:\n",
    "\n",
    "    def __init__(self, url):\n",
    "        \"\"\"\n",
    "        Create this Website object from the given url using the BeautifulSoup library\n",
    "        \"\"\"\n",
    "        self.url = url\n",
    "        response = requests.get(url)\n",
    "        soup = BeautifulSoup(response.content, 'html.parser')\n",
    "        self.title = soup.title.string if soup.title else \"No title found\"\n",
    "        for irrelevant in soup.body([\"script\", \"style\", \"img\", \"input\"]):\n",
    "            irrelevant.decompose()\n",
    "        self.text = soup.body.get_text(separator=\"\\n\", strip=True)"
   ]
  },
  {
   "cell_type": "code",
   "execution_count": 13,
   "id": "5f72ca5c",
   "metadata": {},
   "outputs": [],
   "source": [
    "ed = Website(\"https://edwarddonner.com\")\n",
    "#print(ed.title)\n",
    "#print(ed.text)"
   ]
  },
  {
   "cell_type": "code",
   "execution_count": 14,
   "id": "c5a5753c",
   "metadata": {},
   "outputs": [],
   "source": [
    "# Define our system prompt - you can experiment with this later, changing the last sentence to 'Respond in markdown in Spanish.\"\n",
    "\n",
    "system_prompt = \"You are an assistant that analyzes the contents of a website \\\n",
    "and provides a short summary, ignoring text that might be navigation related. \\\n",
    "Respond in markdown.\""
   ]
  },
  {
   "cell_type": "code",
   "execution_count": 15,
   "id": "9b651309",
   "metadata": {},
   "outputs": [],
   "source": [
    "# A function that writes a User Prompt that asks for summaries of websites:\n",
    "\n",
    "def user_prompt_for(website):\n",
    "    user_prompt = f\"You are looking at a website titled {website.title}\"\n",
    "    user_prompt += \"\\nThe contents of this website is as follows; \\\n",
    "                    please provide a short summary of this website in markdown. \\\n",
    "                    If it includes news or announcements, then summarize these too.\\n\\n\"\n",
    "    user_prompt += website.text\n",
    "    return user_prompt"
   ]
  },
  {
   "cell_type": "code",
   "execution_count": 16,
   "id": "4fec5282",
   "metadata": {},
   "outputs": [],
   "source": [
    "#print(user_prompt_for(ed))\n",
    "wiki = Website(\"https://fr.wikipedia.org/wiki/Modèle_de_langage\")"
   ]
  },
  {
   "cell_type": "code",
   "execution_count": 22,
   "id": "d5a192fd",
   "metadata": {},
   "outputs": [],
   "source": [
    "#print(user_prompt_for(wiki))"
   ]
  },
  {
   "cell_type": "code",
   "execution_count": 17,
   "id": "453de23e",
   "metadata": {},
   "outputs": [],
   "source": [
    "# See how this function creates exactly the format above\n",
    "\n",
    "def messages_for(website):\n",
    "    return [\n",
    "        {\"role\": \"system\", \"content\": system_prompt},\n",
    "        {\"role\": \"user\", \"content\": user_prompt_for(website)}\n",
    "    ]"
   ]
  },
  {
   "cell_type": "code",
   "execution_count": 18,
   "id": "45731eeb",
   "metadata": {},
   "outputs": [
    {
     "data": {
      "text/plain": [
       "[{'role': 'system',\n",
       "  'content': 'You are an assistant that analyzes the contents of a website and provides a short summary, ignoring text that might be navigation related. Respond in markdown.'},\n",
       " {'role': 'user',\n",
       "  'content': 'You are looking at a website titled Home - Edward Donner\\nThe contents of this website is as follows;                     please provide a short summary of this website in markdown.                     If it includes news or announcements, then summarize these too.\\n\\nHome\\nOutsmart\\nAn arena that pits LLMs against each other in a battle of diplomacy and deviousness\\nAbout\\nPosts\\nWell, hi there.\\nI’m Ed. I like writing code and experimenting with LLMs, and hopefully you’re here because you do too. I also enjoy DJing (but I’m badly out of practice), amateur electronic music production (\\nvery\\namateur) and losing myself in\\nHacker News\\n, nodding my head sagely to things I only half understand.\\nI’m the co-founder and CTO of\\nNebula.io\\n. We’re applying AI to a field where it can make a massive, positive impact: helping people discover their potential and pursue their reason for being. Recruiters use our product today to source, understand, engage and manage talent. I’m previously the founder and CEO of AI startup untapt,\\nacquired in 2021\\n.\\nWe work with groundbreaking, proprietary LLMs verticalized for talent, we’ve\\npatented\\nour matching model, and our award-winning platform has happy customers and tons of press coverage.\\nConnect\\nwith me for more!\\nNovember 13, 2024\\nMastering AI and LLM Engineering – Resources\\nOctober 16, 2024\\nFrom Software Engineer to AI Data Scientist – resources\\nAugust 6, 2024\\nOutsmart LLM Arena – a battle of diplomacy and deviousness\\nJune 26, 2024\\nChoosing the Right LLM: Toolkit and Resources\\nNavigation\\nHome\\nOutsmart\\nAn arena that pits LLMs against each other in a battle of diplomacy and deviousness\\nAbout\\nPosts\\nGet in touch\\ned [at] edwarddonner [dot] com\\nwww.edwarddonner.com\\nFollow me\\nLinkedIn\\nTwitter\\nFacebook\\nSubscribe to newsletter\\nType your email…\\nSubscribe'}]"
      ]
     },
     "execution_count": 18,
     "metadata": {},
     "output_type": "execute_result"
    }
   ],
   "source": [
    "# Try this out, and then try for a few more websites\n",
    "\n",
    "messages_for(ed)"
   ]
  },
  {
   "cell_type": "code",
   "execution_count": 19,
   "id": "8d477f4e",
   "metadata": {},
   "outputs": [
    {
     "data": {
      "text/plain": [
       "[{'role': 'system',\n",
       "  'content': 'You are an assistant that analyzes the contents of a website and provides a short summary, ignoring text that might be navigation related. Respond in markdown.'},\n",
       " {'role': 'user',\n",
       "  'content': \"You are looking at a website titled Modèle de langage — Wikipédia\\nThe contents of this website is as follows;                     please provide a short summary of this website in markdown.                     If it includes news or announcements, then summarize these too.\\n\\nAller au contenu\\nMenu principal\\nMenu principal\\ndéplacer vers la barre latérale\\nmasquer\\nNavigation\\nAccueil\\nPortails thématiques\\nArticle au hasard\\nContact\\nContribuer\\nDébuter sur Wikipédia\\nAide\\nCommunauté\\nModifications récentes\\nRechercher\\nRechercher\\nApparence\\nFaire un don\\nCréer un compte\\nSe connecter\\nOutils personnels\\nFaire un don\\nCréer un compte\\nSe connecter\\nPages pour les contributeurs déconnectés\\nen savoir plus\\nContributions\\nDiscussion\\nSommaire\\ndéplacer vers la barre latérale\\nmasquer\\nDébut\\n1\\nType de modèles\\nAfficher\\u202f/\\u202fmasquer la sous-section Type de modèles\\n1.1\\nn-gram\\n1.2\\nRéseaux de neurones\\n2\\nUsage\\n3\\nCritiques\\nAfficher\\u202f/\\u202fmasquer la sous-section Critiques\\n3.1\\nQuestion des droits d’auteur\\n3.2\\nAdaptation au contexte\\n3.3\\nPrésence de biais et proliférations de fausses informations\\n3.4\\nInfluence géopolitique\\n4\\nLiens externes\\n5\\nNotes et références\\nBasculer la table des matières\\nModèle de langage\\n33\\xa0langues\\nAfrikaans\\nالعربية\\nБеларуская\\nБългарски\\nবাংলা\\nCatalà\\nČeština\\nDeutsch\\nEnglish\\nEspañol\\nEesti\\nEuskara\\nفارسی\\nSuomi\\nעברית\\nԱրեւմտահայերէն\\n日本語\\nQaraqalpaqsha\\n한국어\\nLatviešu\\nNederlands\\nNorsk nynorsk\\nPortuguês\\nРусский\\nSvenska\\nไทย\\nTürkçe\\nУкраїнська\\nOʻzbekcha / ўзбекча\\nTiếng Việt\\n中文\\n粵語\\nIsiZulu\\nModifier les liens\\nArticle\\nDiscussion\\nfrançais\\nLire\\nModifier\\nModifier le code\\nVoir l’historique\\nOutils\\nOutils\\ndéplacer vers la barre latérale\\nmasquer\\nActions\\nLire\\nModifier\\nModifier le code\\nVoir l’historique\\nGénéral\\nPages liées\\nSuivi des pages liées\\nTéléverser un fichier\\nPages spéciales\\nLien permanent\\nInformations sur la page\\nCiter cette page\\nObtenir l'URL raccourcie\\nTélécharger le code QR\\nImprimer\\u202f/\\u202fexporter\\nCréer un livre\\nTélécharger comme PDF\\nVersion imprimable\\nDans d’autres projets\\nWikimedia Commons\\nÉlément Wikidata\\nApparence\\ndéplacer vers la barre latérale\\nmasquer\\nUn article de Wikipédia, l'encyclopédie libre.\\nNe doit pas être confondu avec\\nGrand modèle de langage\\nqui est un cas particulier de modèle de langage\\nCet article est une\\nébauche\\nconcernant la\\nlinguistique\\n.\\nVous pouvez partager vos connaissances en l’améliorant (\\ncomment\\xa0?\\n) selon les recommandations des\\nprojets correspondants\\n.\\nModèle de langage\\nType\\nModèle statistique\\nAspect de\\nTraitement automatique des langues\\nmodifier\\n-\\nmodifier le code\\n-\\nmodifier Wikidata\\nEn\\ntraitement automatique des langues\\n, un\\nmodèle de langage, modèle de langue\\nou\\nmodèle linguistique\\n[\\n1\\n]\\nest un\\nmodèle statistique\\nde la distribution de symboles distincts (lettres, phonèmes, mots) dans une\\nlangue naturelle\\n. Un modèle de langage vise fondamentalement à prédire le mot suivant dans une séquence de mots\\n[\\n2\\n]\\n.\\nType de modèles\\n[\\nmodifier\\n|\\nmodifier le code\\n]\\nn-gram\\n[\\nmodifier\\n|\\nmodifier le code\\n]\\nUn modèle de langage n-gramme est un modèle de langage qui modélise des séquences de mots comme un\\nprocessus de Markov\\n. Il utilise l'hypothèse simplificatrice selon laquelle la probabilité du mot suivant dans une séquence ne dépend que d'une fenêtre de taille fixe de mots précédents. Un modèle bigramme considère un mot précédent, un modèle trigramme en considère deux, et en général, un modèle\\nn\\n-gramme considère\\nn\\n-1 mots du contexte précédent.\\nLes modèles n-grammes ne sont plus couramment utilisés dans la recherche et les applications du\\ntraitement du langage naturel\\n, car ils ont été supplantés par les\\nméthodes d'apprentissage en profondeur\\n, plus récemment  les\\ngrands modèles de langages\\n.\\nRéseaux de neurones\\n[\\nmodifier\\n|\\nmodifier le code\\n]\\nUn\\nmodèle de langage de grande taille\\n(\\nlarge language model\\nou\\nLLM\\nen anglais) s'appuie sur de vastes corpus de textes de diverses sources, tels que livres, articles de presse, pages Web, forums, réseaux sociaux, etc. pour prédire, à partir d'un mot donné, les mots et les phrases suivants dans un texte.\\nLes LLM sont utilisés pour une variété de tâches, telles que la génération de texte, la traduction automatique, la classification de texte et la réponse aux questions. Parmi les exemples de LLM les plus connus, on peut citer\\nGPT-3\\net\\nGPT-4\\nde\\nOpenAI\\net\\nBERT\\nde\\nGoogle\\n.\\nOutre les grands modèles de langage, les\\npetits modèles de langage\\n(SLM ou\\nsmall langage model\\n) nécessitent moins de données et de puissance de calcul pour fonctionner. Cette caractéristique les rend plus pratiques pour une utilisation dans des appareils avec des ressources limitées ou pour des applications nécessitant une réponse rapide\\n[\\n3\\n]\\n.\\nUsage\\n[\\nmodifier\\n|\\nmodifier le code\\n]\\nLes LLM sont utilisés pour une variété de tâches, telles que la génération de texte, la traduction automatique, la classification de texte et la réponse aux questions.\\nPlus précisement, Solaiman, I.\\net al.\\nrapportent des usages dits bénéfiques dans une grande variété de domaines\\n[\\n4\\n]\\n. Ils ressortent\\xa0:\\nDomaine\\nExemple d’usage\\nGénie logiciel\\nAutocomplétion de code\\nÉcriture\\nAssistance grammaticale\\nArts\\nGénérations de poèmes\\nDivertissement\\nJeux vidéos\\nSanté\\nSystèmes médicaux de question-réponse\\nCritiques\\n[\\nmodifier\\n|\\nmodifier le code\\n]\\nBender\\net al.\\n2021\\nremet en cause la pertinence des énormes modèles de langage préentraînés\\n[\\n5\\n]\\n. Ils extraient 3 catégories de problèmes\\xa0: le coût environnemental de l’entraînement et de l’utilisation de modèles de grande taille, les problèmes issus des\\njeux d'entraînements\\ntirés d’Internet, et les problèmes introduits par la “cohérence apparente” de ces modèles. Parmi les problèmes issus des jeux d’entraînements, se trouvent les biais que les modèles statistiques encodent souvent, le manque de supervision et de responsabilité dans le traitement des jeux de données, ainsi que l’idée que les mœurs sociales changent, mais que les modèles de langages sont incapables de se modifier sans réentraînement actif avec de nouvelles données.\\nBender\\net al.\\ncritiquent aussi le fait qu’il n’y a pas de pensée derrière la communication des LLM\\xa0; parce que c’est un modèle statistique, la sortie ne serait donc qu’une imitation d’une communication réelle.\\nQuestion des droits d’auteur\\n[\\nmodifier\\n|\\nmodifier le code\\n]\\nLa question des droits d'auteur liés à l'utilisation de données textuelles protégées pour l'entraînement de modèles de langage préentraînés est une préoccupation majeure, comme l'explique Christopher T. Zirpoli 2023\\n[\\n6\\n]\\n. La controverse réside principalement dans la distinction entre l'utilisation transformative, qui peut être considérée comme une utilisation équitable, et la reproduction de travaux protégés par le droit d'auteur. Bien que ces modèles ne reproduisent pas directement le contenu source, ils génèrent des sorties basées sur ces données, pouvant éventuellement reproduire des segments de textes protégés. La législation actuelle ne couvre pas explicitement ce domaine, laissant une zone d'incertitude juridique. Cela souligne la nécessité d'une clarification légale et d'un débat éthique autour de la propriété intellectuelle dans le contexte de l'intelligence artificielle générative.\\nAdaptation au contexte\\n[\\nmodifier\\n|\\nmodifier le code\\n]\\nL'article “Challenges of Context and Time in Reinforcement Learning\\xa0: Introducing Space Fortress as a Benchmark” par Akshat Agarwal\\net al.\\n(2018) aborde des problématiques essentielles dans le domaine de l'apprentissage par renforcement. Les auteurs mettent l'accent sur la complexité d'intégrer le contexte et le facteur temporel dans les algorithmes. Ces derniers font face à des défis majeurs lorsqu'il s'agit de prendre des décisions optimales en temps réel, en raison des incertitudes et de la complexité inhérente aux situations réelles. La problématique est d'autant plus pressante qu'une mauvaise interprétation du contexte ou un manque d'adaptation à l'évolution rapide des environnements peut conduire à des résultats imprévus et loin d'être optimaux\\n[\\n7\\n]\\n.\\nPrésence de biais et proliférations de fausses informations\\n[\\nmodifier\\n|\\nmodifier le code\\n]\\nTel que mentionné par Bender\\net al.\\n, les modèles de langage sont directement impactés par la qualité de leurs données d'entraînement. Plusieurs biais ont donc pu être démontrés dans des versions de modèles. On peut nommer comme exemple la priorisation des productions anglophones, pour les modèles entraînés en anglais. Les modèles peuvent aussi être affectés par les biais humains comme les stéréotypes de genre, religion, race, etc.\\n[\\n4\\n]\\nDe plus, il est possible d’utiliser des modèles\\nopen-source\\n, même si souvent moins perfectionnés que ceux de l’industrie privée, et d’en accentuer une idéologie désirée en lui fournissant des données la supportant. Fraioli croit que cette facilité à automatiser la génération de textes pourrait augmenter la quantité de contenu de propagande accessible sur le web\\n[\\n8\\n]\\n.\\nLa présence d’opinion dans les modèles de langage peut influencer les opinions de ses utilisateurs, selon une étude de Jakesch\\net al\\n[\\n9\\n]\\n. Solaiman, I.\\net al.\\nsoutiennent qu’il est alors primordial d’analyser les modèles et de les tester pour ces biais. Selon eux, des méthodes standardisées au travers de l'industrie sont nécessaires\\n[\\n4\\n]\\n.\\nInfluence géopolitique\\n[\\nmodifier\\n|\\nmodifier le code\\n]\\nD’un point de vue politique, plusieurs pays prévoient une influence des modèles de langage sur leurs affaires internes. Par exemple, avec la montée de la désinformation, Fraioli croit qu’il faut surveiller les campagnes électorales prochaines et y mesurer l’impact des modèles\\n[\\n8\\n]\\n.\\nDe plus, la dynamique de la recherche en IA est largement dominée par quelques grandes entreprises technologiques, souvent américaines, qui disposent des ressources nécessaires pour développer et déployer des jeux de données volumineux, des modèles et des clusters de calcul. Les relations internationales se sont donc vues impactées par la montée en popularité des modèles de langage, car leur développement a créé une dynamique de nationalisme de l’IA avec une course à la scalabilité ascendante, principalement entre les États-Unis et la Chine. Fraioli ressort le contrôle par les États-Unis des exportations de semiconducteurs, souvent utilisés en AI, vers la Chine comme un exemple de ces nouvelles mesures. Il estime que ce serait pour préserver les avancées américaines dans le domaines ou pour limiter l’influence Chinoise à l’international. Par contre, il soutient que ça pourrait encourager la Chine à investir dans ses propres infrastructures\\n[\\n8\\n]\\n.\\nFinalement, tous les pays n’ont pas la même approche quant à la régularisation des modèles de langage. L’Union Européenne, par exemple, prévoit être plus sévère et cela pourrait ralentir les développements de l’IA à long terme en Europe\\n[\\n8\\n]\\n.\\nLiens externes\\n[\\nmodifier\\n|\\nmodifier le code\\n]\\nMarine Protais,\\nDerrière la hype de ChatGPT, se joue une guerre économique et géopolitique\\n, L'ADN, N°31 2022, mise à jour 23 février 2023.\\n(en) Kurt Muehmel,\\nWhat Is a Large Language Model, the Tech Behind ChatGPT\\n, data iku, 15/03/2023.\\nNotes et références\\n[\\nmodifier\\n|\\nmodifier le code\\n]\\n↑\\n«\\nmodèle linguistique\\n»,\\nGrand Dictionnaire terminologique\\n,\\nOffice québécois de la langue française\\n(consulté le\\n10 mai 2023\\n)\\n.\\n↑\\n(en)\\nYoshua Bengio\\n,\\n«\\xa0Neural net language models\\xa0»\\n, dans\\nScholarpedia\\n(\\nlire en ligne\\n)\\n.\\n↑\\n(en)\\nMargaret Rouse, «\\nSmall Language Model (SLM)\\n», sur\\nTechopedia\\n,\\n24 novembre 2023\\n(consulté le\\n7 décembre 2023\\n)\\n↑\\na\\nb\\net\\nc\\n(en)\\nIrene\\nSolaiman\\n, «\\nRelease Strategies and the Social Impacts of Language Models\\n»,\\nAucun\\n,\\u200e\\n24 août 2019\\n(\\nlire en ligne\\n, consulté le\\n28 mai 2023\\n)\\n↑\\n(en)\\nEmily\\nBender\\n,\\nTimnit\\nGebru\\n, Angelina\\nMcMillan-Major\\net\\nShmargaret\\nShmitchell\\n, «\\nOn the Dangers of Stochastic Parrots: Can Language Models Be Too Big? 🦜\\n»,\\nFAccT '21: Proceedings of the 2021 ACM Conference on Fairness, Accountability, and Transparency\\n,\\u200e\\nmars 2021\\n,\\np.\\n610–623\\n(\\nDOI\\n10.1145/3442188.3445922\\n)\\n↑\\nChristopher\\nZirpoli\\n, «\\nGenerative Artifical Intelligence and Copyright Law\\n»\\n↑\\nAkshat\\nAgarwal\\n, Ryan\\nHope\\net Katia\\nSycara\\n, «\\nLearning Context-Sensitive Strategies in Space Fortress\\n»,\\n2019 28th IEEE International Conference on Robot and Human Interactive Communication (RO-MAN)\\n, IEEE,\\u200e\\noctobre 2019\\n(\\nDOI\\n10.1109/ro-man46459.2019.8956452\\n,\\nlire en ligne\\n, consulté le\\n28 mai 2023\\n)\\n↑\\na\\nb\\nc\\net\\nd\\n«\\nLarge language models: fast proliferation and budding international competition\\n»,\\nStrategic Comments\\n,\\nvol.\\n29,\\nn\\no\\n2,\\u200e\\n7 février 2023\\n, iv–vi\\n(\\nISSN\\n1356-7888\\n,\\nDOI\\n10.1080/13567888.2023.2198430\\n,\\nlire en ligne\\n, consulté le\\n28 mai 2023\\n)\\n↑\\nMaurice\\nJakesch\\n, Advait\\nBhat\\n, Daniel\\nBuschek\\net Lior\\nZalmanson\\n, «\\nCo-Writing with Opinionated Language Models Affects Users' Views\\n»,\\nProceedings of the 2023 CHI Conference on Human Factors in Computing Systems\\n,\\u200e\\n19 avril 2023\\n,\\np.\\n1–15\\n(\\nDOI\\n10.1145/3544548.3581196\\n,\\nlire en ligne\\n, consulté le\\n28 mai 2023\\n)\\nPortail de la linguistique\\nPortail de l’informatique\\nPortail des probabilités et de la statistique\\nCe document provient de «\\nhttps://fr.wikipedia.org/w/index.php?title=Modèle_de_langage&oldid=218755671\\n».\\nCatégorie\\n:\\nTraitement automatique du langage naturel\\nCatégories cachées\\u202f:\\nWikipédia:ébauche linguistique\\nPage utilisant P279\\nPage utilisant P1269\\nArticle à illustrer Méthode scientifique\\nArticle utilisant l'infobox Méthode scientifique\\nArticle utilisant une Infobox\\nPortail:Linguistique/Articles liés\\nPortail:Langues/Articles liés\\nPortail:Sciences humaines et sociales/Articles liés\\nPortail:Informatique/Articles liés\\nPortail:Technologies/Articles liés\\nPortail:Probabilités et statistiques/Articles liés\\nProjet:Mathématiques/Articles\\nPortail:Sciences/Articles liés\\nLa dernière modification de cette page a été faite le 19 septembre 2024 à 12:57.\\nDroit d'auteur\\n: les textes sont disponibles sous\\nlicence Creative Commons attribution, partage dans les mêmes conditions\\n; d’autres conditions peuvent s’appliquer. Voyez les\\nconditions d’utilisation\\npour plus de détails, ainsi que les\\ncrédits graphiques\\n. En cas de réutilisation des textes de cette page, voyez\\ncomment citer les auteurs et mentionner la licence\\n.\\nWikipedia® est une marque déposée de la\\nWikimedia Foundation, Inc.\\n, organisation de bienfaisance régie par le paragraphe\\n501(c)(3)\\ndu code fiscal des États-Unis.\\nPolitique de confidentialité\\nÀ propos de Wikipédia\\nAvertissements\\nContact\\nCode de conduite\\nDéveloppeurs\\nStatistiques\\nDéclaration sur les témoins (cookies)\\nVersion mobile\"}]"
      ]
     },
     "execution_count": 19,
     "metadata": {},
     "output_type": "execute_result"
    }
   ],
   "source": [
    "messages_for(wiki)"
   ]
  },
  {
   "cell_type": "code",
   "execution_count": 25,
   "id": "c4f81c61",
   "metadata": {},
   "outputs": [],
   "source": [
    "\n",
    "def summarize(url):\n",
    "    website = Website(url)\n",
    "    response = openai.chat.completions.create(\n",
    "        model = \"gpt-4o-mini\",\n",
    "        messages = messages_for(website)\n",
    "    )\n",
    "    return response.choices[0].message.content\n",
    "\n",
    "def summarize_ollama(url):\n",
    "    website = Website(url)\n",
    "    response = ollama.chat(model=MODEL, messages=messages_for(website))\n",
    "    return print(response['message']['content'])\n",
    "    "
   ]
  },
  {
   "cell_type": "code",
   "execution_count": 27,
   "id": "d431a13c",
   "metadata": {},
   "outputs": [
    {
     "name": "stdout",
     "output_type": "stream",
     "text": [
      "Le modèle de langage est un type d'intelligence artificielle conçu pour traiter et comprendre le langage naturel. Les modèles de langage sont basés sur des algorithmes d'apprentissage automatique qui utilisent des données textuelles pour apprendre à reconnaître les structures grammaticales, les relations syntaxiques et le sens du langage.\n",
      "\n",
      "Les modèles de langage peuvent être classifiés en deux catégories principales :\n",
      "\n",
      "1. Les modèles statiques : ces modèles sont entraînés sur une base de données textuelle fixe et ne s'adaptent pas à la fois. Ils utilisent des algorithmes tels que les réseaux neuronaux ou les arbres de décision pour analyser le langage.\n",
      "2. Les modèles dynamiques : ces modèles sont entraînés en ligne, c'est-à-dire qu'ils s'adaptent à la fois sur une base de données textuelle qui change avec le temps. Ils utilisent des algorithmes tels que les réseaux neuronaux temporisés ou les modèles d'apprentissage automatique récurrents pour analyser le langage.\n",
      "\n",
      "Les applications du modèle de langage sont nombreuses et variées, notamment :\n",
      "\n",
      "* La traduction automatisée : les modèles de langage peuvent être utilisés pour traduire des textes du un langue à une autre.\n",
      "* Le traitement automatique du langage naturel : les modèles de langage peuvent être utilisés pour analyser le langage humain et extraire des informations telles que les sentiments, les émotions et les intentions.\n",
      "* La génération de texte : les modèles de langage peuvent être utilisés pour générer de nouveaux textes basés sur un modèle existant.\n",
      "* La conversation avec l'ordinateur : les modèles de langage peuvent être utilisés pour créer des interfaces de dialogue qui permettent aux utilisateurs de communiquer avec l'ordinateur.\n",
      "\n",
      "Cependant, les modèles de langage présentent également quelques défis et limites, notamment :\n",
      "\n",
      "* La sécurité : les modèles de langage peuvent être vulnérables à des attaques telles que le phishing ou la manipulation du langage.\n",
      "* La privacité : les modèles de langage peuvent collecter des informations personnelles sur les utilisateurs sans leur consentement.\n",
      "* La responsabilité : les modèles de langage peuvent produire des résultats injustes ou inattendus, ce qui peut avoir des conséquences importantes dans certains domaines.\n",
      "\n",
      "En résumé, les modèles de langage sont un outil puissant pour le traitement automatique du langage naturel, mais il est essentiel de prendre en compte leurs défis et limites pour les utiliser de manière responsable et éthique.\n"
     ]
    }
   ],
   "source": [
    "summarize_ollama(\"https://fr.wikipedia.org/wiki/Modèle_de_langage\")"
   ]
  },
  {
   "cell_type": "code",
   "execution_count": null,
   "id": "25ea55b5",
   "metadata": {},
   "outputs": [],
   "source": []
  }
 ],
 "metadata": {
  "kernelspec": {
   "display_name": "llms",
   "language": "python",
   "name": "python3"
  },
  "language_info": {
   "codemirror_mode": {
    "name": "ipython",
    "version": 3
   },
   "file_extension": ".py",
   "mimetype": "text/x-python",
   "name": "python",
   "nbconvert_exporter": "python",
   "pygments_lexer": "ipython3",
   "version": "3.11.0"
  }
 },
 "nbformat": 4,
 "nbformat_minor": 5
}
