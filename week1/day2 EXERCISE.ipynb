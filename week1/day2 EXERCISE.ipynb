{
 "cells": [
  {
   "cell_type": "markdown",
   "id": "d15d8294-3328-4e07-ad16-8a03e9bbfdb9",
   "metadata": {},
   "source": [
    "# Welcome to your first assignment!\n",
    "\n",
    "Instructions are below. Please give this a try, and look in the solutions folder if you get stuck (or feel free to ask me!)"
   ]
  },
  {
   "cell_type": "markdown",
   "id": "ada885d9-4d42-4d9b-97f0-74fbbbfe93a9",
   "metadata": {},
   "source": [
    "<table style=\"margin: 0; text-align: left;\">\n",
    "    <tr>\n",
    "        <td style=\"width: 150px; height: 150px; vertical-align: middle;\">\n",
    "            <img src=\"../resources.jpg\" width=\"150\" height=\"150\" style=\"display: block;\" />\n",
    "        </td>\n",
    "        <td>\n",
    "            <h2 style=\"color:#f71;\">Just before we get to the assignment --</h2>\n",
    "            <span style=\"color:#f71;\">I thought I'd take a second to point you at this page of useful resources for the course. This includes links to all the slides.<br/>\n",
    "            <a href=\"https://edwarddonner.com/2024/11/13/llm-engineering-resources/\">https://edwarddonner.com/2024/11/13/llm-engineering-resources/</a><br/>\n",
    "            Please keep this bookmarked, and I'll continue to add more useful links there over time.\n",
    "            </span>\n",
    "        </td>\n",
    "    </tr>\n",
    "</table>"
   ]
  },
  {
   "cell_type": "markdown",
   "id": "6e9fa1fc-eac5-4d1d-9be4-541b3f2b3458",
   "metadata": {},
   "source": [
    "# HOMEWORK EXERCISE ASSIGNMENT\n",
    "\n",
    "Upgrade the day 1 project to summarize a webpage to use an Open Source model running locally via Ollama rather than OpenAI\n",
    "\n",
    "You'll be able to use this technique for all subsequent projects if you'd prefer not to use paid APIs.\n",
    "\n",
    "**Benefits:**\n",
    "1. No API charges - open-source\n",
    "2. Data doesn't leave your box\n",
    "\n",
    "**Disadvantages:**\n",
    "1. Significantly less power than Frontier Model\n",
    "\n",
    "## Recap on installation of Ollama\n",
    "\n",
    "Simply visit [ollama.com](https://ollama.com) and install!\n",
    "\n",
    "Once complete, the ollama server should already be running locally.  \n",
    "If you visit:  \n",
    "[http://localhost:11434/](http://localhost:11434/)\n",
    "\n",
    "You should see the message `Ollama is running`.  \n",
    "\n",
    "If not, bring up a new Terminal (Mac) or Powershell (Windows) and enter `ollama serve`  \n",
    "And in another Terminal (Mac) or Powershell (Windows), enter `ollama pull llama3.2`  \n",
    "Then try [http://localhost:11434/](http://localhost:11434/) again.\n",
    "\n",
    "If Ollama is slow on your machine, try using `llama3.2:1b` as an alternative. Run `ollama pull llama3.2:1b` from a Terminal or Powershell, and change the code below from `MODEL = \"llama3.2\"` to `MODEL = \"llama3.2:1b\"`"
   ]
  },
  {
   "cell_type": "code",
   "execution_count": 7,
   "id": "4e2a9393-7767-488e-a8bf-27c12dca35bd",
   "metadata": {},
   "outputs": [],
   "source": [
    "# imports\n",
    "\n",
    "import requests\n",
    "from bs4 import BeautifulSoup\n",
    "from IPython.display import Markdown, display"
   ]
  },
  {
   "cell_type": "code",
   "execution_count": 8,
   "id": "29ddd15d-a3c5-4f4e-a678-873f56162724",
   "metadata": {},
   "outputs": [],
   "source": [
    "# Constants\n",
    "\n",
    "OLLAMA_API = \"http://localhost:11434/api/chat\"\n",
    "HEADERS = {\"Content-Type\": \"application/json\"}\n",
    "MODEL = \"llama3.2\""
   ]
  },
  {
   "cell_type": "code",
   "execution_count": 9,
   "id": "dac0a679-599c-441f-9bf2-ddc73d35b940",
   "metadata": {},
   "outputs": [],
   "source": [
    "# Create a messages list using the same format that we used for OpenAI\n",
    "\n",
    "messages = [\n",
    "    {\"role\": \"user\", \"content\": \"Describe some of the business applications of Generative AI\"}\n",
    "]"
   ]
  },
  {
   "cell_type": "code",
   "execution_count": 10,
   "id": "7bb9c624-14f0-4945-a719-8ddb64f66f47",
   "metadata": {},
   "outputs": [],
   "source": [
    "payload = {\n",
    "        \"model\": MODEL,\n",
    "        \"messages\": messages,\n",
    "        \"stream\": False\n",
    "    }"
   ]
  },
  {
   "cell_type": "code",
   "execution_count": null,
   "id": "479ff514-e8bd-4985-a572-2ea28bb4fa40",
   "metadata": {},
   "outputs": [],
   "source": [
    "# Let's just make sure the model is loaded\n",
    "\n",
    "!ollama pull llama3.2"
   ]
  },
  {
   "cell_type": "code",
   "execution_count": null,
   "id": "479ff514-e8bd-4985-a572-2ea28bb4fa40",
   "metadata": {},
   "outputs": [
    {
     "name": "stdout",
     "output_type": "stream",
     "text": [
      "Generative AI has numerous business applications across various industries, including:\n",
      "\n",
      "1. **Content Creation**: AI-powered tools can generate high-quality content such as blog posts, social media posts, product descriptions, and even entire articles. This saves time and resources for content creators.\n",
      "2. **Marketing Automation**: Generative AI can help automate marketing campaigns by generating personalized email templates, social media posts, and ad copy. It can also analyze customer data to create targeted promotions.\n",
      "3. **Design and Visual Arts**: AI-powered design tools can generate images, logos, and other visual elements, freeing up designers' time for higher-level creative work.\n",
      "4. **Product Development**: Generative AI can help designers and engineers develop new products by generating concepts, prototypes, and even complete product designs.\n",
      "5. **Customer Service Chatbots**: AI-powered chatbots can engage with customers, answer questions, and provide support 24/7, reducing the need for human customer service agents.\n",
      "6. **Supply Chain Optimization**: Generative AI can analyze supply chain data to identify bottlenecks, optimize logistics, and predict demand fluctuations.\n",
      "7. **Data Analysis and Insights**: AI-powered tools can analyze large datasets, identifying patterns, trends, and insights that can inform business decisions.\n",
      "8. **Personalized Recommendations**: Generative AI can generate personalized product recommendations for e-commerce sites, improving customer engagement and conversion rates.\n",
      "9. **Creative Writing and Storytelling**: AI-powered tools can generate stories, scripts, and even entire books, opening up new opportunities for writers and content creators.\n",
      "10. **Cybersecurity**: Generative AI can help detect and respond to cyber threats by analyzing network traffic, identifying anomalies, and predicting potential attacks.\n",
      "\n",
      "Some specific examples of business applications of Generative AI include:\n",
      "\n",
      "* Salesforce's Einstein AI-powered chatbots\n",
      "* Google's AutoML (Automated Machine Learning) platform\n",
      "* IBM's Watson Studio AI-powered design tools\n",
      "* Amazon's Sumerian AI-powered animation and video creation tool\n",
      "* Microsoft's Azure Machine Learning AI-powered predictive analytics platform\n",
      "\n",
      "These are just a few examples of the many business applications of Generative AI. As the technology continues to evolve, we can expect to see even more innovative uses across various industries.\n"
     ]
    }
   ],
   "source": [
    "# Let's just make sure the model is loaded\n",
    "\n",
    "!ollama pull llama3.2"
   ]
  },
  {
   "cell_type": "code",
   "execution_count": 5,
   "id": "42b9f644-522d-4e05-a691-56e7658c0ea9",
   "metadata": {},
   "outputs": [
    {
     "name": "stdout",
     "output_type": "stream",
     "text": [
      "Generative AI has numerous business applications across various industries, including:\n",
      "\n",
      "1. **Content Creation**: AI-powered tools can generate high-quality content such as blog posts, social media posts, product descriptions, and even entire articles. This saves time and resources for content creators.\n",
      "2. **Marketing Automation**: Generative AI can help automate marketing campaigns by generating personalized email templates, social media posts, and ad copy. It can also analyze customer data to create targeted promotions.\n",
      "3. **Design and Visual Arts**: AI-powered design tools can generate images, logos, and other visual elements, freeing up designers' time for higher-level creative work.\n",
      "4. **Product Development**: Generative AI can help designers and engineers develop new products by generating concepts, prototypes, and even complete product designs.\n",
      "5. **Customer Service Chatbots**: AI-powered chatbots can engage with customers, answer questions, and provide support 24/7, reducing the need for human customer service agents.\n",
      "6. **Supply Chain Optimization**: Generative AI can analyze supply chain data to identify bottlenecks, optimize logistics, and predict demand fluctuations.\n",
      "7. **Data Analysis and Insights**: AI-powered tools can analyze large datasets, identifying patterns, trends, and insights that can inform business decisions.\n",
      "8. **Personalized Recommendations**: Generative AI can generate personalized product recommendations for e-commerce sites, improving customer engagement and conversion rates.\n",
      "9. **Creative Writing and Storytelling**: AI-powered tools can generate stories, scripts, and even entire books, opening up new opportunities for writers and content creators.\n",
      "10. **Cybersecurity**: Generative AI can help detect and respond to cyber threats by analyzing network traffic, identifying anomalies, and predicting potential attacks.\n",
      "\n",
      "Some specific examples of business applications of Generative AI include:\n",
      "\n",
      "* Salesforce's Einstein AI-powered chatbots\n",
      "* Google's AutoML (Automated Machine Learning) platform\n",
      "* IBM's Watson Studio AI-powered design tools\n",
      "* Amazon's Sumerian AI-powered animation and video creation tool\n",
      "* Microsoft's Azure Machine Learning AI-powered predictive analytics platform\n",
      "\n",
      "These are just a few examples of the many business applications of Generative AI. As the technology continues to evolve, we can expect to see even more innovative uses across various industries.\n"
     ]
    }
   ],
   "source": [
    "# If this doesn't work for any reason, try the 2 versions in the following cells\n",
    "# And double check the instructions in the 'Recap on installation of Ollama' at the top of this lab\n",
    "# And if none of that works - contact me!\n",
    "\n",
    "response = requests.post(OLLAMA_API, json=payload, headers=HEADERS)\n",
    "print(response.json()['message']['content'])"
   ]
  },
  {
   "cell_type": "markdown",
   "id": "6a021f13-d6a1-4b96-8e18-4eae49d876fe",
   "metadata": {},
   "source": [
    "# Introducing the ollama package\n",
    "\n",
    "And now we'll do the same thing, but using the elegant ollama python package instead of a direct HTTP call.\n",
    "\n",
    "Under the hood, it's making the same call as above to the ollama server running at localhost:11434"
   ]
  },
  {
   "cell_type": "code",
   "execution_count": 11,
   "id": "a4763322",
   "metadata": {},
   "outputs": [],
   "source": [
    "import ollama"
   ]
  },
  {
   "cell_type": "code",
   "execution_count": null,
   "id": "7745b9c4-57dc-4867-9180-61fa5db55eb8",
   "metadata": {},
   "outputs": [
    {
     "name": "stdout",
     "output_type": "stream",
     "text": [
      "Generative AI has numerous business applications across various industries, including:\n",
      "\n",
      "1. **Content Generation**: AI can generate high-quality content such as articles, social media posts, product descriptions, and more, freeing up human writers' time and improving efficiency.\n",
      "2. **Personalized Recommendations**: Generative AI algorithms can analyze customer data and preferences to create personalized product recommendations, enhancing the shopping experience and increasing sales.\n",
      "3. **Chatbots and Virtual Assistants**: AI-powered chatbots can help businesses provide 24/7 customer support, answer frequently asked questions, and route complex inquiries to human representatives.\n",
      "4. **Product Design and Development**: Generative AI tools can assist designers in creating new product designs, exploring alternative configurations, and optimizing product features for improved performance and aesthetics.\n",
      "5. **Marketing and Advertising**: AI-generated ad copy, images, and videos can help marketers optimize their campaigns, improve targeting accuracy, and reduce production time.\n",
      "6. **Data Analysis and Visualization**: Generative AI algorithms can analyze large datasets, identify patterns, and create interactive visualizations to inform business decisions and drive growth.\n",
      "7. **Supply Chain Optimization**: AI-powered predictive analytics can forecast demand, optimize inventory levels, and predict supply chain disruptions, reducing costs and improving efficiency.\n",
      "8. **Customer Service Automation**: Generative AI tools can help automate routine customer service tasks such as responding to FAQs, generating simple complaints responses, and flagging complex issues for human review.\n",
      "9. **Music and Video Creation**: AI-generated music and videos can be used in various industries such as entertainment, education, and advertising, reducing production costs and increasing creativity.\n",
      "10. **Cybersecurity Threat Detection**: Generative AI algorithms can analyze network traffic patterns to identify potential security threats, detect anomalies, and provide early warning systems for cyber attacks.\n",
      "\n",
      "Some specific business applications of Generative AI include:\n",
      "\n",
      "* **Netflix's Content Generation**: Using generative AI to create new content, such as movie trailers and promotional materials.\n",
      "* **Amazon's Product Recommendations**: Leveraging AI-generated recommendations to enhance the shopping experience and increase sales.\n",
      "* **Google's Search Result Generation**: Using generative AI algorithms to generate search result snippets and descriptions.\n",
      "* **Microsoft's Chatbots**: Deploying AI-powered chatbots to provide 24/7 customer support and improve user engagement.\n",
      "\n",
      "These are just a few examples of the many business applications of Generative AI. As the technology continues to evolve, we can expect to see even more innovative use cases across various industries.\n"
     ]
    }
   ],
   "source": [
    "response = ollama.chat(model=MODEL, messages=messages)\n",
    "print(response['message']['content'])"
   ]
  },
  {
   "cell_type": "markdown",
   "id": "a4704e10-f5fb-4c15-a935-f046c06fb13d",
   "metadata": {},
   "source": [
    "## Alternative approach - using OpenAI python library to connect to Ollama"
   ]
  },
  {
   "cell_type": "code",
   "execution_count": null,
   "id": "23057e00-b6fc-4678-93a9-6b31cb704bff",
   "metadata": {},
   "outputs": [],
   "source": [
    "# There's actually an alternative approach that some people might prefer\n",
    "# You can use the OpenAI client python library to call Ollama:\n",
    "\n",
    "from openai import OpenAI\n",
    "ollama_via_openai = OpenAI(base_url='http://localhost:11434/v1', api_key='ollama')\n",
    "\n",
    "response = ollama_via_openai.chat.completions.create(\n",
    "    model=MODEL,\n",
    "    messages=messages\n",
    ")\n",
    "\n",
    "print(response.choices[0].message.content)"
   ]
  },
  {
   "cell_type": "markdown",
   "id": "1622d9bb-5c68-4d4e-9ca4-b492c751f898",
   "metadata": {},
   "source": [
    "# NOW the exercise for you\n",
    "\n",
    "Take the code from day1 and incorporate it here, to build a website summarizer that uses Llama 3.2 running locally instead of OpenAI; use either of the above approaches."
   ]
  }
 ],
 "metadata": {
  "kernelspec": {
   "display_name": "llms",
   "language": "python",
   "name": "python3"
  },
  "language_info": {
   "codemirror_mode": {
    "name": "ipython",
    "version": 3
   },
   "file_extension": ".py",
   "mimetype": "text/x-python",
   "name": "python",
   "nbconvert_exporter": "python",
   "pygments_lexer": "ipython3",
   "version": "3.11.0"
  }
 },
 "nbformat": 4,
 "nbformat_minor": 5
}
