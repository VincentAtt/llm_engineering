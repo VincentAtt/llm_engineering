{
 "cells": [
  {
   "cell_type": "markdown",
   "id": "d006b2ea-9dfe-49c7-88a9-a5a0775185fd",
   "metadata": {},
   "source": [
    "# Additional End of week Exercise - week 2\n",
    "\n",
    "Now use everything you've learned from Week 2 to build a full prototype for the technical question/answerer you built in Week 1 Exercise.\n",
    "\n",
    "This should include a Gradio UI, streaming, use of the system prompt to add expertise, and the ability to switch between models. Bonus points if you can demonstrate use of a tool!\n",
    "\n",
    "If you feel bold, see if you can add audio input so you can talk to it, and have it respond with audio. ChatGPT or Claude can help you, or email me if you have questions.\n",
    "\n",
    "I will publish a full solution here soon - unless someone beats me to it...\n",
    "\n",
    "There are so many commercial applications for this, from a language tutor, to a company onboarding solution, to a companion AI to a course (like this one!) I can't wait to see your results."
   ]
  },
  {
   "cell_type": "markdown",
   "id": "0aba56ff",
   "metadata": {},
   "source": [
    "---\n",
    "\n",
    "I am going back to the **brochure** idea :\n",
    "- no chat but input/output\n",
    "- an output translated in french thanks to Claude (agent)\n",
    "- with a picture thanks to dall.e (agent)"
   ]
  },
  {
   "cell_type": "code",
   "execution_count": 16,
   "id": "a07e7793-b8f5-44f4-aded-5562f633271a",
   "metadata": {},
   "outputs": [
    {
     "name": "stdout",
     "output_type": "stream",
     "text": [
      "OpenAI API Key exists and begins sk-proj-\n",
      "Anthropic API Key exists and begins sk-ant-\n"
     ]
    }
   ],
   "source": [
    "import os\n",
    "import json\n",
    "import requests\n",
    "from typing import List\n",
    "from dotenv import load_dotenv\n",
    "from bs4 import BeautifulSoup\n",
    "from IPython.display import Markdown, display, update_display\n",
    "from openai import OpenAI\n",
    "import anthropic\n",
    "import gradio as gr\n",
    "\n",
    "## connections :\n",
    "\n",
    "load_dotenv()\n",
    "openai_api_key = os.getenv('OPENAI_API_KEY')\n",
    "anthropic_api_key = os.getenv('ANTHROPIC_API_KEY')\n",
    "\n",
    "if openai_api_key:\n",
    "    print(f\"OpenAI API Key exists and begins {openai_api_key[:8]}\")\n",
    "else:\n",
    "    print(\"OpenAI API Key not set\")\n",
    "    \n",
    "if anthropic_api_key:\n",
    "    print(f\"Anthropic API Key exists and begins {anthropic_api_key[:7]}\")\n",
    "else:\n",
    "    print(\"Anthropic API Key not set\")"
   ]
  },
  {
   "cell_type": "code",
   "execution_count": 2,
   "id": "cb6fe1c1",
   "metadata": {},
   "outputs": [],
   "source": [
    "MODEL = 'gpt-4o-mini'\n",
    "openai = OpenAI()\n",
    "\n",
    "claude = anthropic.Anthropic()"
   ]
  },
  {
   "cell_type": "markdown",
   "id": "cd752006",
   "metadata": {},
   "source": [
    "## understanding webpages"
   ]
  },
  {
   "cell_type": "code",
   "execution_count": 3,
   "id": "2cb2db4c",
   "metadata": {},
   "outputs": [],
   "source": [
    "# A class to represent a webpage\n",
    "\n",
    "# Some websites need you to use proper headers when fetching them:\n",
    "headers = {\n",
    " \"User-Agent\": \"Mozilla/5.0 (Windows NT 10.0; Win64; x64) AppleWebKit/537.36 (KHTML, like Gecko) Chrome/117.0.0.0 Safari/537.36\"\n",
    "}\n",
    "\n",
    "class Website:\n",
    "    \"\"\"\n",
    "    A utility class to represent a Website that we have scraped, now with links\n",
    "    \"\"\"\n",
    "\n",
    "    def __init__(self, url):\n",
    "        self.url = url\n",
    "        response = requests.get(url, headers=headers)\n",
    "        self.body = response.content\n",
    "        soup = BeautifulSoup(self.body, 'html.parser')\n",
    "        self.title = soup.title.string if soup.title else \"No title found\"\n",
    "        if soup.body:\n",
    "            for irrelevant in soup.body([\"script\", \"style\", \"img\", \"input\"]):\n",
    "                irrelevant.decompose()\n",
    "            self.text = soup.body.get_text(separator=\"\\n\", strip=True)\n",
    "        else:\n",
    "            self.text = \"\"\n",
    "        links = [link.get('href') for link in soup.find_all('a')]\n",
    "        self.links = [link for link in links if link]\n",
    "\n",
    "    def get_contents(self):\n",
    "        return f\"Webpage Title:\\n{self.title}\\nWebpage Contents:\\n{self.text}\\n\\n\""
   ]
  },
  {
   "cell_type": "code",
   "execution_count": 4,
   "id": "4467d77d",
   "metadata": {},
   "outputs": [
    {
     "data": {
      "text/plain": [
       "['https://edwarddonner.com/',\n",
       " 'https://edwarddonner.com/outsmart/',\n",
       " 'https://edwarddonner.com/about-me-and-about-nebula/',\n",
       " 'https://edwarddonner.com/posts/',\n",
       " 'https://edwarddonner.com/',\n",
       " 'https://news.ycombinator.com',\n",
       " 'https://nebula.io/?utm_source=ed&utm_medium=referral',\n",
       " 'https://www.prnewswire.com/news-releases/wynden-stark-group-acquires-nyc-venture-backed-tech-startup-untapt-301269512.html',\n",
       " 'https://patents.google.com/patent/US20210049536A1/',\n",
       " 'https://www.linkedin.com/in/eddonner/',\n",
       " 'https://edwarddonner.com/2024/12/21/llm-resources-superdatascience/',\n",
       " 'https://edwarddonner.com/2024/12/21/llm-resources-superdatascience/',\n",
       " 'https://edwarddonner.com/2024/11/13/llm-engineering-resources/',\n",
       " 'https://edwarddonner.com/2024/11/13/llm-engineering-resources/',\n",
       " 'https://edwarddonner.com/2024/10/16/from-software-engineer-to-ai-data-scientist-resources/',\n",
       " 'https://edwarddonner.com/2024/10/16/from-software-engineer-to-ai-data-scientist-resources/',\n",
       " 'https://edwarddonner.com/2024/08/06/outsmart/',\n",
       " 'https://edwarddonner.com/2024/08/06/outsmart/',\n",
       " 'https://edwarddonner.com/',\n",
       " 'https://edwarddonner.com/outsmart/',\n",
       " 'https://edwarddonner.com/about-me-and-about-nebula/',\n",
       " 'https://edwarddonner.com/posts/',\n",
       " 'mailto:hello@mygroovydomain.com',\n",
       " 'https://www.linkedin.com/in/eddonner/',\n",
       " 'https://twitter.com/edwarddonner',\n",
       " 'https://www.facebook.com/edward.donner.52']"
      ]
     },
     "execution_count": 4,
     "metadata": {},
     "output_type": "execute_result"
    }
   ],
   "source": [
    "ed = Website(\"https://edwarddonner.com\")\n",
    "#ed.get_contents()\n",
    "ed.links"
   ]
  },
  {
   "cell_type": "markdown",
   "id": "de55fe85",
   "metadata": {},
   "source": [
    "Now, we filter relevant links :"
   ]
  },
  {
   "cell_type": "code",
   "execution_count": 5,
   "id": "4c3dd182",
   "metadata": {},
   "outputs": [
    {
     "name": "stdout",
     "output_type": "stream",
     "text": [
      "You are provided with a list of links found on a webpage. You are able to decide which of the links would be most relevant to include in a brochure about the company, such as links to an About page, or a Company page, or Careers/Jobs pages.\n",
      "You should respond in JSON as in this example:\n",
      "{\n",
      "    \"links\": [\n",
      "        {\"type\": \"about page\", \"url\": \"https://full.url/goes/here/about\"},\n",
      "        {\"type\": \"careers page\": \"url\": \"https://another.full.url/careers\"}\n",
      "    ]\n",
      "}\n",
      "\n"
     ]
    }
   ],
   "source": [
    "link_system_prompt = \"You are provided with a list of links found on a webpage. \\\n",
    "You are able to decide which of the links would be most relevant to include in a brochure about the company, \\\n",
    "such as links to an About page, or a Company page, or Careers/Jobs pages.\\n\"\n",
    "link_system_prompt += \"You should respond in JSON as in this example:\"\n",
    "link_system_prompt += \"\"\"\n",
    "{\n",
    "    \"links\": [\n",
    "        {\"type\": \"about page\", \"url\": \"https://full.url/goes/here/about\"},\n",
    "        {\"type\": \"careers page\": \"url\": \"https://another.full.url/careers\"}\n",
    "    ]\n",
    "}\n",
    "\"\"\"\n",
    "print(link_system_prompt)"
   ]
  },
  {
   "cell_type": "code",
   "execution_count": 6,
   "id": "9797a2da",
   "metadata": {},
   "outputs": [],
   "source": [
    "def get_links_user_prompt(website):\n",
    "    user_prompt = f\"Here is the list of links on the website of {website.url} - \"\n",
    "    user_prompt += \"please decide which of these are relevant web links for a brochure about the company, respond with the full https URL in JSON format. \\\n",
    "Do not include Terms of Service, Privacy, email links.\\n\"\n",
    "    user_prompt += \"Links (some might be relative links):\\n\"\n",
    "    user_prompt += \"\\n\".join(website.links)\n",
    "    return user_prompt\n",
    "# print(get_links_user_prompt(ed))"
   ]
  },
  {
   "cell_type": "code",
   "execution_count": 13,
   "id": "da2e6463",
   "metadata": {},
   "outputs": [
    {
     "data": {
      "text/plain": [
       "{'links': [{'type': 'home page', 'url': 'https://edwarddonner.com/'},\n",
       "  {'type': 'about page',\n",
       "   'url': 'https://edwarddonner.com/about-me-and-about-nebula/'},\n",
       "  {'type': 'outsmart page', 'url': 'https://edwarddonner.com/outsmart/'},\n",
       "  {'type': 'posts page', 'url': 'https://edwarddonner.com/posts/'}]}"
      ]
     },
     "execution_count": 13,
     "metadata": {},
     "output_type": "execute_result"
    }
   ],
   "source": [
    "def get_links(url):\n",
    "    website = Website(url)\n",
    "    response = openai.chat.completions.create(\n",
    "        model=MODEL,\n",
    "        messages=[\n",
    "            {\"role\": \"system\", \"content\": link_system_prompt},\n",
    "            {\"role\": \"user\", \"content\": get_links_user_prompt(website)}\n",
    "      ],\n",
    "        response_format={\"type\": \"json_object\"}\n",
    "    )\n",
    "    result = response.choices[0].message.content\n",
    "    return json.loads(result)\n",
    "\n",
    "get_links(\"https://edwarddonner.com\")"
   ]
  },
  {
   "cell_type": "markdown",
   "id": "b2561d44",
   "metadata": {},
   "source": [
    "## Brochure"
   ]
  },
  {
   "cell_type": "code",
   "execution_count": 11,
   "id": "4a2f4efd",
   "metadata": {},
   "outputs": [],
   "source": [
    "def get_all_details(url):\n",
    "    result = \"Landing page:\\n\"\n",
    "    result += Website(url).get_contents()\n",
    "    links = get_links(url)\n",
    "    print(\"Found links:\", links)\n",
    "    for link in links[\"links\"]:\n",
    "        result += f\"\\n\\n{link['type']}\\n\"\n",
    "        result += Website(link[\"url\"]).get_contents()\n",
    "    return result"
   ]
  },
  {
   "cell_type": "code",
   "execution_count": 7,
   "id": "0a9cffcb",
   "metadata": {},
   "outputs": [],
   "source": [
    "def get_brochure_system_prompt(mode):\n",
    "    \"\"\"\n",
    "    create the brochure system prompt\n",
    "    mode : \"serious\" or funny\n",
    "    returns the desired system prompt for creating the brochure\n",
    "    \"\"\"\n",
    "\n",
    "    system_prompt = f\"You are an assistant that analyzes the contents of several relevant pages from a company website \\n\"\n",
    "\n",
    "    if mode == \"serious\":\n",
    "        system_prompt+= f\"and creates a short brochure about the company for prospective customers, investors and recruits. \\n\"\n",
    "\n",
    "    if mode == \"funny\":\n",
    "        system_prompt+= f\"and creates a short humorous, entertaining, jokey brochure about the company for prospective customers, investors and recruits. \\n\"\n",
    "\n",
    "    system_prompt+= f\"Respond in markdown. Include details of company culture, customers and careers/jobs if you have the information.\"\n",
    "\n",
    "    return system_prompt\n",
    "\n",
    "#print(get_brochure_system_prompt(\"funny\"))\n"
   ]
  },
  {
   "cell_type": "code",
   "execution_count": 8,
   "id": "594502c3",
   "metadata": {},
   "outputs": [],
   "source": [
    "def get_brochure_user_prompt(company_name, url):\n",
    "    user_prompt = f\"You are looking at a company called: {company_name}\\n\"\n",
    "    user_prompt += f\"Here are the contents of its landing page and other relevant pages; use this information to build a short brochure of the company in markdown.\\n\"\n",
    "    user_prompt += get_all_details(url)\n",
    "    user_prompt = user_prompt[:5_000] # Truncate if more than 5,000 characters\n",
    "    return user_prompt"
   ]
  },
  {
   "cell_type": "code",
   "execution_count": 9,
   "id": "1565f722",
   "metadata": {},
   "outputs": [],
   "source": [
    "def create_brochure_system_prompt_options(company_name, url, mode):\n",
    "    response = openai.chat.completions.create(\n",
    "        model=MODEL,\n",
    "        messages=[\n",
    "            {\"role\": \"system\", \"content\": get_brochure_system_prompt(mode)},\n",
    "            {\"role\": \"user\", \"content\": get_brochure_user_prompt(company_name, url)}\n",
    "          ],\n",
    "    )\n",
    "    result = response.choices[0].message.content\n",
    "    display(Markdown(result))"
   ]
  },
  {
   "cell_type": "markdown",
   "id": "8f193601",
   "metadata": {},
   "source": [
    "il faut que la fonction ne display pas le markdonwn du résultat mais le retourne pour le sauver\n",
    "\n",
    "Ensuite, implémenter la traduction anthropic et l'image dall.e et l'introduire dans le modèle gradio généré par chatgpt (donc à vérifier)"
   ]
  },
  {
   "cell_type": "code",
   "execution_count": 22,
   "id": "084c586e",
   "metadata": {},
   "outputs": [
    {
     "name": "stdout",
     "output_type": "stream",
     "text": [
      "Found links: {'links': [{'type': 'about page', 'url': 'https://www.santepubliquefrance.fr/a-propos'}, {'type': 'news page', 'url': 'https://www.santepubliquefrance.fr/les-actualites'}, {'type': 'careers page', 'url': 'https://www.santepubliquefrance.fr/offres-d-emploi'}]}\n"
     ]
    },
    {
     "data": {
      "text/markdown": [
       "```markdown\n",
       "# 🎉 Welcome to Santé Publique France! 🎉\n",
       "\n",
       "## 🤔 Who Are We?\n",
       "At Santé Publique France, we’re like the health superheroes of France, but without the tight spandex suits (thankfully!). We handle everything from monitoring infectious diseases to promoting the importance of vaccines. Our motto: **“Prevent, Detect, Protect!”** We're passionate about making sure everyone stays healthy and informed. \n",
       "\n",
       "## 🕵️‍♀️ What Do We Do?\n",
       "Here are some of the exhilarating missions we undertake:\n",
       "- **Cancer Surveillance**: We’re the detectives of disease, tracking down the sneaky microbes behind cancers. Think of us as the Sherlock Holmes of cell biology!\n",
       "- **Infection Alert Squad**: From STIs to foodborne illnesses and beyond, we’re on the front lines keeping unhealthy bacteria at bay. Don’t worry, we can’t hear you screaming from the other end of the microscope!\n",
       "- **Vector Control**: Yes, we know all about those tiny buzzers (a.k.a mosquitoes) that bite more than just lip balm sales. We’re working hard to keep those pesky bugs from spoiling your summer fun!\n",
       "\n",
       "## 📊 Data Wizards\n",
       "With our magical tool **GÉODES**, we provide health data tighter than your best friend's jeans after the holidays! You can measure everything from cancer stats to antibiotic resistance. It's all about keeping our finger on the pulse—literally!\n",
       "\n",
       "## 🌱 Company Culture\n",
       "At Santé Publique France, our office is the ultimate healthy haven! We have yoga breaks to keep stress levels lower than a summer intern’s coffee budget. Our team shares everything: ideas, laughs, and occasional healthy snacks (carrots, but make them fancy). \n",
       "\n",
       "## 🧑‍💼 Careers at Santé Publique France\n",
       "Looking for a job? Instead of just a paycheck, how about a chance to save lives while wearing comfy shoes? Here, if you’re passionate about public health and have a knack for adventure, we might just be your Cup of Health (better than a cup of tea)! Join us, and *“let’s battle diseases and have fun doing it!”*\n",
       "\n",
       "## 🎯 Who's Our Target?\n",
       "Our customers range from government entities to concerned citizens who want to keep germs at bay. Basically, if you breathe air, we’re here for you! We love working with all who seek to understand health better; whether you're a health enthusiast, a student or just someone who enjoys learning all about the marvels of the human body!\n",
       "\n",
       "## 🔍 Why Choose Us?\n",
       "So whether you’re looking to invest in your health, recruit some kick-butt talent, or just keep up-to-date with the latest in health trends, Santé Publique France is your best bet! With us, you’re not just part of a health agency—you’re part of a vibrant community focused on keeping France healthy and happy!\n",
       "\n",
       "---\n",
       "\n",
       "**Join the Santé Publique France family today—where health is our superpower!** \n",
       "```\n"
      ],
      "text/plain": [
       "<IPython.core.display.Markdown object>"
      ]
     },
     "metadata": {},
     "output_type": "display_data"
    }
   ],
   "source": [
    "result = create_brochure_system_prompt_options(\"Santé Publique France\", \"https://www.santepubliquefrance.fr/\",\"funny\")"
   ]
  },
  {
   "cell_type": "code",
   "execution_count": 38,
   "id": "19b1a202",
   "metadata": {},
   "outputs": [
    {
     "name": "stdout",
     "output_type": "stream",
     "text": [
      "Found links: {'links': [{'type': 'about page', 'url': 'https://www.lemonde.fr/qui-sommes-nous/article/2007/11/17/talents-un-site-d-emploi-coedite-par-le-monde-interactif-et-telerama_978404_3386.html'}, {'type': 'careers page', 'url': 'https://www.lemonde.fr/le-monde-evenements/'}, {'type': 'company page', 'url': 'https://www.lemonde.fr/le-club-de-l-economie/'}]}\n"
     ]
    },
    {
     "data": {
      "text/markdown": [
       "# Le Monde Brochure\n",
       "\n",
       "---\n",
       "\n",
       "## Company Overview\n",
       "\n",
       "**Webpage Title:** Le Monde.fr - Actualités et Infos en France et dans le monde\n",
       "\n",
       "Le Monde is a leading French newspaper renowned for its comprehensive coverage of national and international news. Founded with a commitment to providing high-quality journalism, Le Monde aims to keep its audience informed on critical issues in politics, society, economics, culture, and more.\n",
       "\n",
       "---\n",
       "\n",
       "## Company Culture\n",
       "\n",
       "Le Monde prides itself on a culture of integrity, professionalism, and a strong sense of responsibility towards informing the public. The organization believes that a well-informed society is essential for democracy and strives to uphold journalistic standards that prioritize accuracy and balanced reporting. \n",
       "\n",
       "The editorial team works collaboratively, valuing diverse perspectives in its mission of delivering insightful analysis and exploration of global events. This emphasis not only fosters a robust working environment but also contributes to the credibility and reliability of the information presented.\n",
       "\n",
       "---\n",
       "\n",
       "## Customers\n",
       "\n",
       "Le Monde serves a diverse audience, including:\n",
       "\n",
       "- **General readers** seeking timely news coverage and analysis.\n",
       "- **Subscribers** who receive exclusive content, including investigative reports, commentaries, and features.\n",
       "- **Students and scholars** who utilize the paper for academic research and cultural insights.\n",
       "\n",
       "The newspaper has continuously adapted its services to meet the needs of digital consumers and maintain its relevance in a rapidly evolving media landscape.\n",
       "\n",
       "---\n",
       "\n",
       "## Careers at Le Monde\n",
       "\n",
       "Le Monde is not only a pillar of journalism but also a vibrant workplace for individuals passionate about media. The organization offers a variety of career opportunities in different fields, including:\n",
       "\n",
       "- **Journalism**: Reporting, editing, and investigative roles that seek curious and dedicated individuals.\n",
       "- **Digital and Tech**: Opportunities in digital strategy, product management, and technology integration for those looking to innovate in the news space.\n",
       "- **Marketing and Business Development**: Roles focused on broadening reach and enhancing subscriber experience.\n",
       "\n",
       "Le Monde values talent and dedication, offering a supportive work environment where new ideas are encouraged. The newsroom actively promotes continuous learning and development, providing employees with the resources needed to advance in their careers.\n",
       "\n",
       "---\n",
       "\n",
       "## Conclusion\n",
       "\n",
       "With its unwavering commitment to quality journalism and a nurturing work culture, Le Monde represents a leader in the media landscape of France. Whether you are a reader, a potential subscriber, an investor interested in media ventures, or a candidate looking to build a career in journalism, Le Monde remains an exemplary choice for those seeking depth, accuracy, and integrity in news.\n",
       "\n",
       "---\n",
       "\n",
       "For more information, visit [Le Monde.fr](https://www.lemonde.fr)."
      ],
      "text/plain": [
       "<IPython.core.display.Markdown object>"
      ]
     },
     "metadata": {},
     "output_type": "display_data"
    }
   ],
   "source": [
    "create_brochure_system_prompt_options(\"Le Monde\", \"https://www.lemonde.fr/\",\"serious\")"
   ]
  },
  {
   "cell_type": "markdown",
   "id": "aad44c19",
   "metadata": {},
   "source": [
    "## Translation\n",
    "\n",
    "Asking Claude to translate the brochure in French, being careful to keep the general tone of the speech."
   ]
  },
  {
   "cell_type": "markdown",
   "id": "9c38718a",
   "metadata": {},
   "source": [
    "## Creating an image\n",
    "\n",
    "Using cheap dall.e, must attract applications.\n",
    "\n",
    "After the first version of the gradio app is created"
   ]
  },
  {
   "cell_type": "markdown",
   "id": "8d6a59dd",
   "metadata": {},
   "source": [
    "## gradio"
   ]
  },
  {
   "cell_type": "code",
   "execution_count": null,
   "id": "10fff6da",
   "metadata": {},
   "outputs": [],
   "source": [
    "import gradio as gr\n",
    "\n",
    "# Fonction pour générer un texte basé sur les inputs\n",
    "#def generate_text(organization_name, organization_url, option):\n",
    "#    return f\"Organisation: {organization_name}\\nURL: {organization_url}\\nOption choisie: {option}\"\n",
    "\n",
    "# Fonction pour générer une image (ici une image d'exemple)\n",
    "def generate_image(text):\n",
    "    # Ici vous pouvez créer l'image selon le texte, pour l'exemple nous utilisons une image fixe.\n",
    "    # Par exemple, une image qui pourrait être générée avec la bibliothèque PIL, OpenCV, etc.\n",
    "    # Pour l'exemple, une image vide est retournée.\n",
    "    from PIL import Image, ImageDraw, ImageFont\n",
    "    \n",
    "    # Créer une image vide avec du texte\n",
    "    img = Image.new('RGB', (200, 200), color = (255, 255, 255))\n",
    "    d = ImageDraw.Draw(img)\n",
    "    d.text((10, 10), text, fill=(0, 0, 0))\n",
    "    \n",
    "    return img\n",
    "\n",
    "# Fonction de réinitialisation\n",
    "def clear_fields():\n",
    "    return \"\", \"\", \"\", None\n",
    "\n",
    "# Création de l'interface Gradio\n",
    "with gr.Blocks() as ui:\n",
    "    with gr.Row():\n",
    "        # Champs d'entrée pour le nom de l'organisation et l'URL\n",
    "        entry_name = gr.Textbox(label=\"Nom de l'organisation\")\n",
    "        entry_url = gr.Textbox(label=\"URL de l'organisation\")\n",
    "        \n",
    "    with gr.Row():\n",
    "        # Dropdown pour choisir une option\n",
    "        option_dropdown = gr.Dropdown([\"Option 1\", \"Option 2\"], label=\"Choisissez une option\")\n",
    "    \n",
    "    with gr.Row():\n",
    "        # Zone de texte pour afficher le texte généré à gauche\n",
    "        output_text = gr.Textbox(label=\"Texte généré\", interactive=False, elem_id=\"output_text\")\n",
    "    \n",
    "    with gr.Row():\n",
    "        # Zone d'image pour afficher l'image générée à droite\n",
    "        output_image = gr.Image(label=\"Image générée\", interactive=False, elem_id=\"output_image\")\n",
    "    \n",
    "    with gr.Row():\n",
    "        # Bouton pour générer texte et image\n",
    "        submit_button = gr.Button(\"Générer\")\n",
    "        # Bouton pour réinitialiser les champs\n",
    "        clear_button = gr.Button(\"Clear\")\n",
    "    \n",
    "    # Connexion des boutons aux fonctions\n",
    "    submit_button.click(\n",
    "        fn=lambda org_name, org_url, option : (create_brochure_system_prompt_options(org_name, org_url, option), \n",
    "                                               generate_image(generate_text(org_name, org_url, option))),\n",
    "        inputs=[entry_name, entry_url, option_dropdown],\n",
    "        outputs=[output_text, output_image]\n",
    "    )\n",
    "    \n",
    "    clear_button.click(fn=clear_fields, outputs=[entry_name, entry_url, option_dropdown, output_image])\n",
    "\n",
    "# Lancer l'interface Gradio\n",
    "ui.launch()\n"
   ]
  },
  {
   "cell_type": "code",
   "execution_count": null,
   "id": "83f46dc0",
   "metadata": {},
   "outputs": [],
   "source": []
  }
 ],
 "metadata": {
  "kernelspec": {
   "display_name": "llms",
   "language": "python",
   "name": "python3"
  },
  "language_info": {
   "codemirror_mode": {
    "name": "ipython",
    "version": 3
   },
   "file_extension": ".py",
   "mimetype": "text/x-python",
   "name": "python",
   "nbconvert_exporter": "python",
   "pygments_lexer": "ipython3",
   "version": "3.11.0"
  }
 },
 "nbformat": 4,
 "nbformat_minor": 5
}
