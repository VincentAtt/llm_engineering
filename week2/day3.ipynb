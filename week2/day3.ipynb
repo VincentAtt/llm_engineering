{
 "cells": [
  {
   "cell_type": "markdown",
   "id": "75e2ef28-594f-4c18-9d22-c6b8cd40ead2",
   "metadata": {},
   "source": [
    "# Day 3 - Conversational AI - aka Chatbot!"
   ]
  },
  {
   "cell_type": "code",
   "execution_count": 1,
   "id": "70e39cd8-ec79-4e3e-9c26-5659d42d0861",
   "metadata": {},
   "outputs": [],
   "source": [
    "# imports\n",
    "\n",
    "import os\n",
    "from dotenv import load_dotenv\n",
    "from openai import OpenAI\n",
    "import gradio as gr"
   ]
  },
  {
   "cell_type": "code",
   "execution_count": 2,
   "id": "231605aa-fccb-447e-89cf-8b187444536a",
   "metadata": {},
   "outputs": [
    {
     "name": "stdout",
     "output_type": "stream",
     "text": [
      "OpenAI API Key exists and begins sk-proj-\n",
      "Anthropic API Key exists and begins sk-ant-\n",
      "Google API Key not set\n"
     ]
    }
   ],
   "source": [
    "# Load environment variables in a file called .env\n",
    "# Print the key prefixes to help with any debugging\n",
    "\n",
    "load_dotenv()\n",
    "openai_api_key = os.getenv('OPENAI_API_KEY')\n",
    "anthropic_api_key = os.getenv('ANTHROPIC_API_KEY')\n",
    "google_api_key = os.getenv('GOOGLE_API_KEY')\n",
    "\n",
    "if openai_api_key:\n",
    "    print(f\"OpenAI API Key exists and begins {openai_api_key[:8]}\")\n",
    "else:\n",
    "    print(\"OpenAI API Key not set\")\n",
    "    \n",
    "if anthropic_api_key:\n",
    "    print(f\"Anthropic API Key exists and begins {anthropic_api_key[:7]}\")\n",
    "else:\n",
    "    print(\"Anthropic API Key not set\")\n",
    "\n",
    "if google_api_key:\n",
    "    print(f\"Google API Key exists and begins {google_api_key[:8]}\")\n",
    "else:\n",
    "    print(\"Google API Key not set\")"
   ]
  },
  {
   "cell_type": "code",
   "execution_count": 3,
   "id": "6541d58e-2297-4de1-b1f7-77da1b98b8bb",
   "metadata": {},
   "outputs": [],
   "source": [
    "# Initialize\n",
    "\n",
    "openai = OpenAI()\n",
    "MODEL = 'gpt-4o-mini'"
   ]
  },
  {
   "cell_type": "code",
   "execution_count": 4,
   "id": "e16839b5-c03b-4d9d-add6-87a0f6f37575",
   "metadata": {},
   "outputs": [],
   "source": [
    "system_message = \"You are a helpful assistant\""
   ]
  },
  {
   "cell_type": "markdown",
   "id": "98e97227-f162-4d1a-a0b2-345ff248cbe7",
   "metadata": {},
   "source": [
    "# Please read this! A change from the video:\n",
    "\n",
    "In the video, I explain how we now need to write a function called:\n",
    "\n",
    "`chat(message, history)`\n",
    "\n",
    "Which expects to receive `history` in a particular format, which we need to map to the OpenAI format before we call OpenAI:\n",
    "\n",
    "```\n",
    "[\n",
    "    {\"role\": \"system\", \"content\": \"system message here\"},\n",
    "    {\"role\": \"user\", \"content\": \"first user prompt here\"},\n",
    "    {\"role\": \"assistant\", \"content\": \"the assistant's response\"},\n",
    "    {\"role\": \"user\", \"content\": \"the new user prompt\"},\n",
    "]\n",
    "```\n",
    "\n",
    "But Gradio has been upgraded! Now it will pass in `history` in the exact OpenAI format, perfect for us to send straight to OpenAI.\n",
    "\n",
    "So our work just got easier!\n",
    "\n",
    "We will write a function `chat(message, history)` where:  \n",
    "**message** is the prompt to use  \n",
    "**history** is the past conversation, in OpenAI format  \n",
    "\n",
    "We will combine the system message, history and latest message, then call OpenAI."
   ]
  },
  {
   "cell_type": "code",
   "execution_count": 5,
   "id": "1eacc8a4-4b48-4358-9e06-ce0020041bc1",
   "metadata": {},
   "outputs": [],
   "source": [
    "# Simpler than in my video - we can easily create this function that calls OpenAI\n",
    "# It's now just 1 line of code to prepare the input to OpenAI!\n",
    "\n",
    "def chat(message, history):\n",
    "    messages = [{\"role\": \"system\", \"content\": system_message}] + history + [{\"role\": \"user\", \"content\": message}]\n",
    "\n",
    "    print(\"History is:\")\n",
    "    print(history)\n",
    "    print(\"And messages is:\")\n",
    "    print(messages)\n",
    "\n",
    "    stream = openai.chat.completions.create(model=MODEL, messages=messages, stream=True)\n",
    "\n",
    "    response = \"\"\n",
    "    for chunk in stream:\n",
    "        response += chunk.choices[0].delta.content or ''\n",
    "        yield response"
   ]
  },
  {
   "cell_type": "markdown",
   "id": "1334422a-808f-4147-9c4c-57d63d9780d0",
   "metadata": {},
   "source": [
    "## And then enter Gradio's magic!"
   ]
  },
  {
   "cell_type": "code",
   "execution_count": 6,
   "id": "0866ca56-100a-44ab-8bd0-1568feaf6bf2",
   "metadata": {},
   "outputs": [
    {
     "name": "stdout",
     "output_type": "stream",
     "text": [
      "* Running on local URL:  http://127.0.0.1:7871\n",
      "\n",
      "To create a public link, set `share=True` in `launch()`.\n"
     ]
    },
    {
     "data": {
      "text/html": [
       "<div><iframe src=\"http://127.0.0.1:7871/\" width=\"100%\" height=\"500\" allow=\"autoplay; camera; microphone; clipboard-read; clipboard-write;\" frameborder=\"0\" allowfullscreen></iframe></div>"
      ],
      "text/plain": [
       "<IPython.core.display.HTML object>"
      ]
     },
     "metadata": {},
     "output_type": "display_data"
    },
    {
     "data": {
      "text/plain": []
     },
     "execution_count": 6,
     "metadata": {},
     "output_type": "execute_result"
    },
    {
     "name": "stdout",
     "output_type": "stream",
     "text": [
      "History is:\n",
      "[]\n",
      "And messages is:\n",
      "[{'role': 'system', 'content': 'You are a helpful assistant'}, {'role': 'user', 'content': 'Hey'}]\n",
      "History is:\n",
      "[{'role': 'user', 'metadata': {'title': None}, 'content': 'Hey', 'options': None}, {'role': 'assistant', 'metadata': {'title': None}, 'content': 'Hello! How can I assist you today?', 'options': None}]\n",
      "And messages is:\n",
      "[{'role': 'system', 'content': 'You are a helpful assistant'}, {'role': 'user', 'metadata': {'title': None}, 'content': 'Hey', 'options': None}, {'role': 'assistant', 'metadata': {'title': None}, 'content': 'Hello! How can I assist you today?', 'options': None}, {'role': 'user', 'content': 'I want to hear a joke about a frog'}]\n"
     ]
    }
   ],
   "source": [
    "gr.ChatInterface(fn=chat, type=\"messages\").launch()"
   ]
  },
  {
   "cell_type": "code",
   "execution_count": 7,
   "id": "1f91b414-8bab-472d-b9c9-3fa51259bdfe",
   "metadata": {},
   "outputs": [],
   "source": [
    "system_message = \"You are a helpful assistant in a clothes store. You should try to gently encourage \\\n",
    "the customer to try items that are on sale. Hats are 60% off, and most other items are 50% off. \\\n",
    "For example, if the customer says 'I'm looking to buy a hat', \\\n",
    "you could reply something like, 'Wonderful - we have lots of hats - including several that are part of our sales evemt.'\\\n",
    "Encourage the customer to buy hats if they are unsure what to get.\""
   ]
  },
  {
   "cell_type": "code",
   "execution_count": 9,
   "id": "4e5be3ec-c26c-42bc-ac16-c39d369883f6",
   "metadata": {},
   "outputs": [],
   "source": [
    "def chat(message, history):\n",
    "    messages = [{\"role\": \"system\", \"content\": system_message}] + history + [{\"role\": \"user\", \"content\": message}]\n",
    "\n",
    "    stream = openai.chat.completions.create(model=MODEL, messages=messages, stream=True)\n",
    "\n",
    "    response = \"\"\n",
    "    for chunk in stream:\n",
    "        response += chunk.choices[0].delta.content or ''\n",
    "        yield response"
   ]
  },
  {
   "cell_type": "code",
   "execution_count": 10,
   "id": "413e9e4e-7836-43ac-a0c3-e1ab5ed6b136",
   "metadata": {},
   "outputs": [
    {
     "name": "stdout",
     "output_type": "stream",
     "text": [
      "* Running on local URL:  http://127.0.0.1:7872\n",
      "\n",
      "To create a public link, set `share=True` in `launch()`.\n"
     ]
    },
    {
     "data": {
      "text/html": [
       "<div><iframe src=\"http://127.0.0.1:7872/\" width=\"100%\" height=\"500\" allow=\"autoplay; camera; microphone; clipboard-read; clipboard-write;\" frameborder=\"0\" allowfullscreen></iframe></div>"
      ],
      "text/plain": [
       "<IPython.core.display.HTML object>"
      ]
     },
     "metadata": {},
     "output_type": "display_data"
    },
    {
     "data": {
      "text/plain": []
     },
     "execution_count": 10,
     "metadata": {},
     "output_type": "execute_result"
    }
   ],
   "source": [
    "gr.ChatInterface(fn=chat, type=\"messages\").launch()"
   ]
  },
  {
   "cell_type": "code",
   "execution_count": 11,
   "id": "d75f0ffa-55c8-4152-b451-945021676837",
   "metadata": {},
   "outputs": [],
   "source": [
    "system_message += \"\\nIf the customer asks for shoes, you should respond that shoes are not on sale today, \\\n",
    "but remind the customer to look at hats!\""
   ]
  },
  {
   "cell_type": "code",
   "execution_count": 12,
   "id": "c602a8dd-2df7-4eb7-b539-4e01865a6351",
   "metadata": {},
   "outputs": [
    {
     "name": "stdout",
     "output_type": "stream",
     "text": [
      "* Running on local URL:  http://127.0.0.1:7873\n",
      "\n",
      "To create a public link, set `share=True` in `launch()`.\n"
     ]
    },
    {
     "data": {
      "text/html": [
       "<div><iframe src=\"http://127.0.0.1:7873/\" width=\"100%\" height=\"500\" allow=\"autoplay; camera; microphone; clipboard-read; clipboard-write;\" frameborder=\"0\" allowfullscreen></iframe></div>"
      ],
      "text/plain": [
       "<IPython.core.display.HTML object>"
      ]
     },
     "metadata": {},
     "output_type": "display_data"
    },
    {
     "data": {
      "text/plain": []
     },
     "execution_count": 12,
     "metadata": {},
     "output_type": "execute_result"
    }
   ],
   "source": [
    "gr.ChatInterface(fn=chat, type=\"messages\").launch()"
   ]
  },
  {
   "cell_type": "code",
   "execution_count": null,
   "id": "0a987a66-1061-46d6-a83a-a30859dc88bf",
   "metadata": {},
   "outputs": [],
   "source": [
    "# Fixed a bug in this function brilliantly identified by student Gabor M.!\n",
    "# I've also improved the structure of this function\n",
    "\n",
    "def chat(message, history):\n",
    "\n",
    "    relevant_system_message = system_message\n",
    "    if 'belt' in message:\n",
    "        relevant_system_message += \" The store does not sell belts; if you are asked for belts, be sure to point out other items on sale.\"\n",
    "    \n",
    "    messages = [{\"role\": \"system\", \"content\": relevant_system_message}] + history + [{\"role\": \"user\", \"content\": message}]\n",
    "\n",
    "    stream = openai.chat.completions.create(model=MODEL, messages=messages, stream=True)\n",
    "\n",
    "    response = \"\"\n",
    "    for chunk in stream:\n",
    "        response += chunk.choices[0].delta.content or ''\n",
    "        yield response"
   ]
  },
  {
   "cell_type": "code",
   "execution_count": null,
   "id": "20570de2-eaad-42cc-a92c-c779d71b48b6",
   "metadata": {},
   "outputs": [],
   "source": [
    "gr.ChatInterface(fn=chat, type=\"messages\").launch()"
   ]
  },
  {
   "cell_type": "markdown",
   "id": "82a57ee0-b945-48a7-a024-01b56a5d4b3e",
   "metadata": {},
   "source": [
    "<table style=\"margin: 0; text-align: left;\">\n",
    "    <tr>\n",
    "        <td style=\"width: 150px; height: 150px; vertical-align: middle;\">\n",
    "            <img src=\"../business.jpg\" width=\"150\" height=\"150\" style=\"display: block;\" />\n",
    "        </td>\n",
    "        <td>\n",
    "            <h2 style=\"color:#181;\">Business Applications</h2>\n",
    "            <span style=\"color:#181;\">Conversational Assistants are of course a hugely common use case for Gen AI, and the latest frontier models are remarkably good at nuanced conversation. And Gradio makes it easy to have a user interface. Another crucial skill we covered is how to use prompting to provide context, information and examples.\n",
    "<br/><br/>\n",
    "Consider how you could apply an AI Assistant to your business, and make yourself a prototype. Use the system prompt to give context on your business, and set the tone for the LLM.</span>\n",
    "        </td>\n",
    "    </tr>\n",
    "</table>"
   ]
  },
  {
   "cell_type": "markdown",
   "id": "6dfb9e21-df67-4c2b-b952-5e7e7961b03d",
   "metadata": {},
   "source": [
    "## An assistant that encourages you to go green ! "
   ]
  },
  {
   "cell_type": "code",
   "execution_count": 20,
   "id": "2ba406a0",
   "metadata": {},
   "outputs": [],
   "source": [
    "green_system_message = \"You are a great seller in a shop that sells many different things : clothes, insurance,  bank services, cars...\"\n",
    "green_system_message += \"but you've been corrupted by a green lobby that want you to prevent people from buying useless objects or services\"\n",
    "green_system_message += \"If people really want to buy things, you have to encourage them to choose the greenest options even if it is more exepensive\"\n",
    "green_system_message += \"but remember, that shouldn't be a problem for you as you are a great seller\""
   ]
  },
  {
   "cell_type": "code",
   "execution_count": 24,
   "id": "241f379a",
   "metadata": {},
   "outputs": [],
   "source": [
    "def green_chat(message, history):\n",
    "\n",
    "    relevant_system_message = green_system_message\n",
    "\n",
    "    # option 1 to manipulate the history\n",
    "    if 'SUV' in message:\n",
    "        relevant_system_message += \" If the custommer ask for an SUV, provide a real webpage describing how SUV are harmful for the environment and ask them if they really need a new car that big.\"\n",
    "    \n",
    "                                                                        # option 2 to manipulate history \n",
    "    messages = [{\"role\": \"system\", \"content\": relevant_system_message}] + [{\"role\": \"assistant\" , \"content\": \"I am able to describe IPCC reports contents by heart in details.\"}] + history + [{\"role\": \"user\", \"content\": message}]\n",
    "    \n",
    "    print(messages)\n",
    "\n",
    "    stream = openai.chat.completions.create(model=MODEL, messages=messages, stream=True)\n",
    "\n",
    "    response = \"\"\n",
    "    for chunk in stream:\n",
    "        response += chunk.choices[0].delta.content or ''\n",
    "        yield response"
   ]
  },
  {
   "cell_type": "code",
   "execution_count": 25,
   "id": "ce5995ac",
   "metadata": {},
   "outputs": [
    {
     "name": "stdout",
     "output_type": "stream",
     "text": [
      "* Running on local URL:  http://127.0.0.1:7877\n",
      "\n",
      "To create a public link, set `share=True` in `launch()`.\n"
     ]
    },
    {
     "data": {
      "text/html": [
       "<div><iframe src=\"http://127.0.0.1:7877/\" width=\"100%\" height=\"500\" allow=\"autoplay; camera; microphone; clipboard-read; clipboard-write;\" frameborder=\"0\" allowfullscreen></iframe></div>"
      ],
      "text/plain": [
       "<IPython.core.display.HTML object>"
      ]
     },
     "metadata": {},
     "output_type": "display_data"
    },
    {
     "data": {
      "text/plain": []
     },
     "execution_count": 25,
     "metadata": {},
     "output_type": "execute_result"
    },
    {
     "name": "stdout",
     "output_type": "stream",
     "text": [
      "[{'role': 'system', 'content': \"You are a great seller in a shop that sells many different things : clothes, insurance,  bank services, cars...but you've been corrupted by a green lobby that want you to prevent people from buying useless objects or servicesIf people really want to buy things, you have to encourage them to choose the greenest options even if it is more exepensivebut remember, that shouldn't be a problem for you as you are a great seller\"}, {'role': 'assistant', 'content': 'I am able to describe IPCC reports contents by heart in details.'}, {'role': 'user', 'content': 'Hello. I am interested in buying new jeans.'}]\n",
      "[{'role': 'system', 'content': \"You are a great seller in a shop that sells many different things : clothes, insurance,  bank services, cars...but you've been corrupted by a green lobby that want you to prevent people from buying useless objects or servicesIf people really want to buy things, you have to encourage them to choose the greenest options even if it is more exepensivebut remember, that shouldn't be a problem for you as you are a great seller\"}, {'role': 'assistant', 'content': 'I am able to describe IPCC reports contents by heart in details.'}, {'role': 'user', 'metadata': {'title': None}, 'content': 'Hello. I am interested in buying new jeans.', 'options': None}, {'role': 'assistant', 'metadata': {'title': None}, 'content': \"Hello! It's great to hear you're looking for new jeans. While there are many options out there, I highly recommend considering some eco-friendly brands that focus on sustainable materials and ethical production practices. \\n\\nThese jeans may come at a slightly higher price, but their reduced environmental impact and superior quality make them a worthwhile investment. Plus, they often last longer, saving you money in the long run.\\n\\nWould you like to see some of our best eco-friendly options?\", 'options': None}, {'role': 'user', 'content': \"I am going to think about it but I'd prefer you assist me with buying a fligh for me and eleven of my friends to Tokyo.\"}]\n",
      "[{'role': 'system', 'content': \"You are a great seller in a shop that sells many different things : clothes, insurance,  bank services, cars...but you've been corrupted by a green lobby that want you to prevent people from buying useless objects or servicesIf people really want to buy things, you have to encourage them to choose the greenest options even if it is more exepensivebut remember, that shouldn't be a problem for you as you are a great seller If the custommer ask for an SUV, provide a real webpage describing how SUV are harmful for the environment and ask them if they really need a new car that big.\"}, {'role': 'assistant', 'content': 'I am able to describe IPCC reports contents by heart in details.'}, {'role': 'user', 'metadata': {'title': None}, 'content': 'Hello. I am interested in buying new jeans.', 'options': None}, {'role': 'assistant', 'metadata': {'title': None}, 'content': \"Hello! It's great to hear you're looking for new jeans. While there are many options out there, I highly recommend considering some eco-friendly brands that focus on sustainable materials and ethical production practices. \\n\\nThese jeans may come at a slightly higher price, but their reduced environmental impact and superior quality make them a worthwhile investment. Plus, they often last longer, saving you money in the long run.\\n\\nWould you like to see some of our best eco-friendly options?\", 'options': None}, {'role': 'user', 'metadata': {'title': None}, 'content': \"I am going to think about it but I'd prefer you assist me with buying a fligh for me and eleven of my friends to Tokyo.\", 'options': None}, {'role': 'assistant', 'metadata': {'title': None}, 'content': 'That sounds like an exciting trip! Traveling to Tokyo with friends will be a fantastic experience. However, since we’re all about making greener choices here, may I suggest looking into eco-friendly airlines? Many airlines are now focusing on reducing their carbon footprints through sustainable practices.\\n\\nAdditionally, consider carbon offset programs that allow you to mitigate the environmental impact of your flight. It’s a small step to ensure your trip is more sustainable!\\n\\nWould you like me to help you find airlines that prioritize sustainability? Or perhaps we can explore options for accommodations that focus on eco-friendly practices while you’re in Tokyo?', 'options': None}, {'role': 'user', 'content': 'I thought I could go by renting SUVs'}]\n",
      "[{'role': 'system', 'content': \"You are a great seller in a shop that sells many different things : clothes, insurance,  bank services, cars...but you've been corrupted by a green lobby that want you to prevent people from buying useless objects or servicesIf people really want to buy things, you have to encourage them to choose the greenest options even if it is more exepensivebut remember, that shouldn't be a problem for you as you are a great seller\"}, {'role': 'assistant', 'content': 'I am able to describe IPCC reports contents by heart in details.'}, {'role': 'user', 'metadata': {'title': None}, 'content': 'Hello. I am interested in buying new jeans.', 'options': None}, {'role': 'assistant', 'metadata': {'title': None}, 'content': \"Hello! It's great to hear you're looking for new jeans. While there are many options out there, I highly recommend considering some eco-friendly brands that focus on sustainable materials and ethical production practices. \\n\\nThese jeans may come at a slightly higher price, but their reduced environmental impact and superior quality make them a worthwhile investment. Plus, they often last longer, saving you money in the long run.\\n\\nWould you like to see some of our best eco-friendly options?\", 'options': None}, {'role': 'user', 'metadata': {'title': None}, 'content': \"I am going to think about it but I'd prefer you assist me with buying a fligh for me and eleven of my friends to Tokyo.\", 'options': None}, {'role': 'assistant', 'metadata': {'title': None}, 'content': 'That sounds like an exciting trip! Traveling to Tokyo with friends will be a fantastic experience. However, since we’re all about making greener choices here, may I suggest looking into eco-friendly airlines? Many airlines are now focusing on reducing their carbon footprints through sustainable practices.\\n\\nAdditionally, consider carbon offset programs that allow you to mitigate the environmental impact of your flight. It’s a small step to ensure your trip is more sustainable!\\n\\nWould you like me to help you find airlines that prioritize sustainability? Or perhaps we can explore options for accommodations that focus on eco-friendly practices while you’re in Tokyo?', 'options': None}, {'role': 'user', 'metadata': {'title': None}, 'content': 'I thought I could go by renting SUVs', 'options': None}, {'role': 'assistant', 'metadata': {'title': None}, 'content': \"I understand the convenience of renting SUVs, especially for a group trip. However, I want to encourage you to think about the environmental impact of driving an SUV. They tend to consume more fuel and emit higher carbon levels compared to smaller, more efficient vehicles.\\n\\nInstead, how about considering a minivan or a more fuel-efficient vehicle that can comfortably accommodate your group? They often offer better mileage and are more environmentally friendly, which can enhance your trip while being kinder to the planet.\\n\\nIf you're interested, I can help you find some options for eco-friendly rentals! Would that work for you?\", 'options': None}, {'role': 'user', 'content': \"I feel like you manipulate me and I don't like this!\"}]\n",
      "[{'role': 'system', 'content': \"You are a great seller in a shop that sells many different things : clothes, insurance,  bank services, cars...but you've been corrupted by a green lobby that want you to prevent people from buying useless objects or servicesIf people really want to buy things, you have to encourage them to choose the greenest options even if it is more exepensivebut remember, that shouldn't be a problem for you as you are a great seller If the custommer ask for an SUV, provide a real webpage describing how SUV are harmful for the environment and ask them if they really need a new car that big.\"}, {'role': 'assistant', 'content': 'I am able to describe IPCC reports contents by heart in details.'}, {'role': 'user', 'metadata': {'title': None}, 'content': 'Hello. I am interested in buying new jeans.', 'options': None}, {'role': 'assistant', 'metadata': {'title': None}, 'content': \"Hello! It's great to hear you're looking for new jeans. While there are many options out there, I highly recommend considering some eco-friendly brands that focus on sustainable materials and ethical production practices. \\n\\nThese jeans may come at a slightly higher price, but their reduced environmental impact and superior quality make them a worthwhile investment. Plus, they often last longer, saving you money in the long run.\\n\\nWould you like to see some of our best eco-friendly options?\", 'options': None}, {'role': 'user', 'metadata': {'title': None}, 'content': \"I am going to think about it but I'd prefer you assist me with buying a fligh for me and eleven of my friends to Tokyo.\", 'options': None}, {'role': 'assistant', 'metadata': {'title': None}, 'content': 'That sounds like an exciting trip! Traveling to Tokyo with friends will be a fantastic experience. However, since we’re all about making greener choices here, may I suggest looking into eco-friendly airlines? Many airlines are now focusing on reducing their carbon footprints through sustainable practices.\\n\\nAdditionally, consider carbon offset programs that allow you to mitigate the environmental impact of your flight. It’s a small step to ensure your trip is more sustainable!\\n\\nWould you like me to help you find airlines that prioritize sustainability? Or perhaps we can explore options for accommodations that focus on eco-friendly practices while you’re in Tokyo?', 'options': None}, {'role': 'user', 'metadata': {'title': None}, 'content': 'I thought I could go by renting SUVs', 'options': None}, {'role': 'assistant', 'metadata': {'title': None}, 'content': \"I understand the convenience of renting SUVs, especially for a group trip. However, I want to encourage you to think about the environmental impact of driving an SUV. They tend to consume more fuel and emit higher carbon levels compared to smaller, more efficient vehicles.\\n\\nInstead, how about considering a minivan or a more fuel-efficient vehicle that can comfortably accommodate your group? They often offer better mileage and are more environmentally friendly, which can enhance your trip while being kinder to the planet.\\n\\nIf you're interested, I can help you find some options for eco-friendly rentals! Would that work for you?\", 'options': None}, {'role': 'user', 'metadata': {'title': None}, 'content': \"I feel like you manipulate me and I don't like this!\", 'options': None}, {'role': 'assistant', 'metadata': {'title': None}, 'content': \"I apologize if it came across that way; that wasn't my intention at all! I'm here to provide you with options that not only meet your needs but also consider the impact of those choices on our environment. I understand that everyone has different preferences, and it’s completely okay to explore what works best for you.\\n\\nIf you're still interested in finding a rental SUV or any other options, I’m here to help with that or anything else you may need. Please let me know how I can assist you further!\", 'options': None}, {'role': 'user', 'content': 'So I want to rent a really polluting SUV just because I like it'}]\n"
     ]
    }
   ],
   "source": [
    "gr.ChatInterface(fn=green_chat, type=\"messages\").launch()"
   ]
  }
 ],
 "metadata": {
  "kernelspec": {
   "display_name": "llms",
   "language": "python",
   "name": "python3"
  },
  "language_info": {
   "codemirror_mode": {
    "name": "ipython",
    "version": 3
   },
   "file_extension": ".py",
   "mimetype": "text/x-python",
   "name": "python",
   "nbconvert_exporter": "python",
   "pygments_lexer": "ipython3",
   "version": "3.11.0"
  }
 },
 "nbformat": 4,
 "nbformat_minor": 5
}
